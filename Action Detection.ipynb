{
 "cells": [
  {
   "cell_type": "markdown",
   "metadata": {},
   "source": [
    "# 1. Import and Install Dependencies"
   ]
  },
  {
   "cell_type": "code",
   "execution_count": 1,
   "metadata": {},
   "outputs": [
    {
     "name": "stdout",
     "output_type": "stream",
     "text": [
      "Requirement already satisfied: tensorflow==2.4.1 in f:\\anacondaaa2\\envs\\ev_8\\lib\\site-packages (2.4.1)\n",
      "Requirement already satisfied: tensorflow-gpu==2.4.1 in f:\\anacondaaa2\\envs\\ev_8\\lib\\site-packages (2.4.1)\n",
      "Requirement already satisfied: opencv-python in c:\\users\\dell g5 15\\appdata\\roaming\\python\\python38\\site-packages (4.9.0.80)\n",
      "Requirement already satisfied: mediapipe in f:\\anacondaaa2\\envs\\ev_8\\lib\\site-packages (0.8.11)\n",
      "Requirement already satisfied: scikit-learn in f:\\anacondaaa2\\envs\\ev_8\\lib\\site-packages (1.1.3)\n",
      "Requirement already satisfied: matplotlib in f:\\anacondaaa2\\envs\\ev_8\\lib\\site-packages (3.6.2)\n",
      "Requirement already satisfied: absl-py~=0.10 in f:\\anacondaaa2\\envs\\ev_8\\lib\\site-packages (from tensorflow==2.4.1) (0.15.0)\n",
      "Requirement already satisfied: astunparse~=1.6.3 in f:\\anacondaaa2\\envs\\ev_8\\lib\\site-packages (from tensorflow==2.4.1) (1.6.3)\n",
      "Requirement already satisfied: flatbuffers~=1.12.0 in f:\\anacondaaa2\\envs\\ev_8\\lib\\site-packages (from tensorflow==2.4.1) (1.12)\n",
      "Requirement already satisfied: google-pasta~=0.2 in f:\\anacondaaa2\\envs\\ev_8\\lib\\site-packages (from tensorflow==2.4.1) (0.2.0)\n",
      "Requirement already satisfied: h5py~=2.10.0 in f:\\anacondaaa2\\envs\\ev_8\\lib\\site-packages (from tensorflow==2.4.1) (2.10.0)\n",
      "Requirement already satisfied: keras-preprocessing~=1.1.2 in f:\\anacondaaa2\\envs\\ev_8\\lib\\site-packages (from tensorflow==2.4.1) (1.1.2)\n",
      "Requirement already satisfied: numpy~=1.19.2 in f:\\anacondaaa2\\envs\\ev_8\\lib\\site-packages (from tensorflow==2.4.1) (1.19.5)\n",
      "Requirement already satisfied: opt-einsum~=3.3.0 in f:\\anacondaaa2\\envs\\ev_8\\lib\\site-packages (from tensorflow==2.4.1) (3.3.0)\n",
      "Requirement already satisfied: protobuf>=3.9.2 in f:\\anacondaaa2\\envs\\ev_8\\lib\\site-packages (from tensorflow==2.4.1) (3.20.3)\n",
      "Requirement already satisfied: six~=1.15.0 in f:\\anacondaaa2\\envs\\ev_8\\lib\\site-packages (from tensorflow==2.4.1) (1.15.0)\n",
      "Requirement already satisfied: termcolor~=1.1.0 in f:\\anacondaaa2\\envs\\ev_8\\lib\\site-packages (from tensorflow==2.4.1) (1.1.0)\n",
      "INFO: pip is looking at multiple versions of tensorflow to determine which version is compatible with other requirements. This could take a while.\n"
     ]
    },
    {
     "name": "stderr",
     "output_type": "stream",
     "text": [
      "WARNING: Ignoring invalid distribution -harset-normalizer (f:\\anacondaaa2\\envs\\ev_8\\lib\\site-packages)\n",
      "WARNING: Retrying (Retry(total=4, connect=None, read=None, redirect=None, status=None)) after connection broken by 'NewConnectionError('<pip._vendor.urllib3.connection.HTTPSConnection object at 0x00000132B8E0DE80>: Failed to establish a new connection: [Errno 11001] getaddrinfo failed')': /simple/typing-extensions/\n",
      "WARNING: Retrying (Retry(total=3, connect=None, read=None, redirect=None, status=None)) after connection broken by 'NewConnectionError('<pip._vendor.urllib3.connection.HTTPSConnection object at 0x00000132B8E0D6A0>: Failed to establish a new connection: [Errno 11001] getaddrinfo failed')': /simple/typing-extensions/\n",
      "WARNING: Retrying (Retry(total=2, connect=None, read=None, redirect=None, status=None)) after connection broken by 'NewConnectionError('<pip._vendor.urllib3.connection.HTTPSConnection object at 0x00000132B8E08820>: Failed to establish a new connection: [Errno 11001] getaddrinfo failed')': /simple/typing-extensions/\n",
      "WARNING: Retrying (Retry(total=1, connect=None, read=None, redirect=None, status=None)) after connection broken by 'NewConnectionError('<pip._vendor.urllib3.connection.HTTPSConnection object at 0x00000132B8E04730>: Failed to establish a new connection: [Errno 11001] getaddrinfo failed')': /simple/typing-extensions/\n",
      "WARNING: Retrying (Retry(total=0, connect=None, read=None, redirect=None, status=None)) after connection broken by 'NewConnectionError('<pip._vendor.urllib3.connection.HTTPSConnection object at 0x00000132B8E0A760>: Failed to establish a new connection: [Errno 11001] getaddrinfo failed')': /simple/typing-extensions/\n",
      "WARNING: Retrying (Retry(total=4, connect=None, read=None, redirect=None, status=None)) after connection broken by 'NewConnectionError('<pip._vendor.urllib3.connection.HTTPSConnection object at 0x00000132B8E19400>: Failed to establish a new connection: [Errno 11001] getaddrinfo failed')': /simple/tensorflow/\n",
      "WARNING: Retrying (Retry(total=3, connect=None, read=None, redirect=None, status=None)) after connection broken by 'NewConnectionError('<pip._vendor.urllib3.connection.HTTPSConnection object at 0x00000132B8E19610>: Failed to establish a new connection: [Errno 11001] getaddrinfo failed')': /simple/tensorflow/\n",
      "WARNING: Retrying (Retry(total=2, connect=None, read=None, redirect=None, status=None)) after connection broken by 'NewConnectionError('<pip._vendor.urllib3.connection.HTTPSConnection object at 0x00000132B8E197C0>: Failed to establish a new connection: [Errno 11001] getaddrinfo failed')': /simple/tensorflow/\n",
      "WARNING: Retrying (Retry(total=1, connect=None, read=None, redirect=None, status=None)) after connection broken by 'NewConnectionError('<pip._vendor.urllib3.connection.HTTPSConnection object at 0x00000132B8E19970>: Failed to establish a new connection: [Errno 11001] getaddrinfo failed')': /simple/tensorflow/\n",
      "WARNING: Retrying (Retry(total=0, connect=None, read=None, redirect=None, status=None)) after connection broken by 'NewConnectionError('<pip._vendor.urllib3.connection.HTTPSConnection object at 0x00000132B8E19B20>: Failed to establish a new connection: [Errno 11001] getaddrinfo failed')': /simple/tensorflow/\n",
      "ERROR: Could not find a version that satisfies the requirement typing-extensions~=3.7.4 (from tensorflow) (from versions: none)\n",
      "ERROR: No matching distribution found for typing-extensions~=3.7.4\n"
     ]
    }
   ],
   "source": [
    "!pip install tensorflow==2.4.1 tensorflow-gpu==2.4.1 opencv-python mediapipe scikit-learn matplotlib"
   ]
  },
  {
   "cell_type": "code",
   "execution_count": 2,
   "metadata": {},
   "outputs": [],
   "source": [
    "import cv2\n",
    "import numpy as np\n",
    "import os\n",
    "from matplotlib import pyplot as plt\n",
    "import time\n",
    "import mediapipe as mp"
   ]
  },
  {
   "cell_type": "markdown",
   "metadata": {},
   "source": [
    "# 2. Keypoints using MP Holistic"
   ]
  },
  {
   "cell_type": "code",
   "execution_count": 3,
   "metadata": {},
   "outputs": [],
   "source": [
    "mp_holistic = mp.solutions.holistic # Holistic model\n",
    "mp_drawing = mp.solutions.drawing_utils # Drawing utilities"
   ]
  },
  {
   "cell_type": "code",
   "execution_count": 4,
   "metadata": {},
   "outputs": [],
   "source": [
    "def mediapipe_detection(image, model):\n",
    "    image = cv2.cvtColor(image, cv2.COLOR_BGR2RGB) # COLOR CONVERSION BGR 2 RGB\n",
    "    image.flags.writeable = False                  # Image is no longer writeable\n",
    "    results = model.process(image)                 # Make prediction\n",
    "    image.flags.writeable = True                   # Image is now writeable \n",
    "    image = cv2.cvtColor(image, cv2.COLOR_RGB2BGR) # COLOR COVERSION RGB 2 BGR\n",
    "    return image, results"
   ]
  },
  {
   "cell_type": "code",
   "execution_count": 5,
   "metadata": {},
   "outputs": [],
   "source": [
    "def draw_landmarks(image, results):\n",
    "    mp_drawing.draw_landmarks(image, results.pose_landmarks, mp_holistic.POSE_CONNECTIONS) # Draw pose connections\n",
    "    mp_drawing.draw_landmarks(image, results.left_hand_landmarks, mp_holistic.HAND_CONNECTIONS) # Draw left hand connections\n",
    "    mp_drawing.draw_landmarks(image, results.right_hand_landmarks, mp_holistic.HAND_CONNECTIONS) # Draw right hand connections"
   ]
  },
  {
   "cell_type": "code",
   "execution_count": 6,
   "metadata": {},
   "outputs": [],
   "source": [
    "def draw_styled_landmarks(image, results): \n",
    "    # Draw pose connections\n",
    "    mp_drawing.draw_landmarks(image, results.pose_landmarks, mp_holistic.POSE_CONNECTIONS,\n",
    "                             mp_drawing.DrawingSpec(color=(80,22,10), thickness=2, circle_radius=4), \n",
    "                             mp_drawing.DrawingSpec(color=(80,44,121), thickness=2, circle_radius=2)\n",
    "                             ) \n",
    "    # Draw left hand connections\n",
    "    mp_drawing.draw_landmarks(image, results.left_hand_landmarks, mp_holistic.HAND_CONNECTIONS, \n",
    "                             mp_drawing.DrawingSpec(color=(121,22,76), thickness=2, circle_radius=4), \n",
    "                             mp_drawing.DrawingSpec(color=(121,44,250), thickness=2, circle_radius=2)\n",
    "                             ) \n",
    "    # Draw right hand connections  \n",
    "    mp_drawing.draw_landmarks(image, results.right_hand_landmarks, mp_holistic.HAND_CONNECTIONS, \n",
    "                             mp_drawing.DrawingSpec(color=(245,117,66), thickness=2, circle_radius=4), \n",
    "                             mp_drawing.DrawingSpec(color=(245,66,230), thickness=2, circle_radius=2)\n",
    "                             ) "
   ]
  },
  {
   "cell_type": "code",
   "execution_count": 7,
   "metadata": {},
   "outputs": [
    {
     "name": "stdout",
     "output_type": "stream",
     "text": [
      "<class 'mediapipe.python.solution_base.SolutionOutputs'>\n",
      "<class 'mediapipe.python.solution_base.SolutionOutputs'>\n",
      "<class 'mediapipe.python.solution_base.SolutionOutputs'>\n",
      "<class 'mediapipe.python.solution_base.SolutionOutputs'>\n",
      "<class 'mediapipe.python.solution_base.SolutionOutputs'>\n",
      "<class 'mediapipe.python.solution_base.SolutionOutputs'>\n",
      "<class 'mediapipe.python.solution_base.SolutionOutputs'>\n",
      "<class 'mediapipe.python.solution_base.SolutionOutputs'>\n",
      "<class 'mediapipe.python.solution_base.SolutionOutputs'>\n",
      "<class 'mediapipe.python.solution_base.SolutionOutputs'>\n",
      "<class 'mediapipe.python.solution_base.SolutionOutputs'>\n",
      "<class 'mediapipe.python.solution_base.SolutionOutputs'>\n",
      "<class 'mediapipe.python.solution_base.SolutionOutputs'>\n",
      "<class 'mediapipe.python.solution_base.SolutionOutputs'>\n",
      "<class 'mediapipe.python.solution_base.SolutionOutputs'>\n",
      "<class 'mediapipe.python.solution_base.SolutionOutputs'>\n",
      "<class 'mediapipe.python.solution_base.SolutionOutputs'>\n",
      "<class 'mediapipe.python.solution_base.SolutionOutputs'>\n",
      "<class 'mediapipe.python.solution_base.SolutionOutputs'>\n",
      "<class 'mediapipe.python.solution_base.SolutionOutputs'>\n",
      "<class 'mediapipe.python.solution_base.SolutionOutputs'>\n",
      "<class 'mediapipe.python.solution_base.SolutionOutputs'>\n",
      "<class 'mediapipe.python.solution_base.SolutionOutputs'>\n",
      "<class 'mediapipe.python.solution_base.SolutionOutputs'>\n",
      "<class 'mediapipe.python.solution_base.SolutionOutputs'>\n",
      "<class 'mediapipe.python.solution_base.SolutionOutputs'>\n",
      "<class 'mediapipe.python.solution_base.SolutionOutputs'>\n",
      "<class 'mediapipe.python.solution_base.SolutionOutputs'>\n",
      "<class 'mediapipe.python.solution_base.SolutionOutputs'>\n",
      "<class 'mediapipe.python.solution_base.SolutionOutputs'>\n",
      "<class 'mediapipe.python.solution_base.SolutionOutputs'>\n",
      "<class 'mediapipe.python.solution_base.SolutionOutputs'>\n",
      "<class 'mediapipe.python.solution_base.SolutionOutputs'>\n",
      "<class 'mediapipe.python.solution_base.SolutionOutputs'>\n",
      "<class 'mediapipe.python.solution_base.SolutionOutputs'>\n",
      "<class 'mediapipe.python.solution_base.SolutionOutputs'>\n",
      "<class 'mediapipe.python.solution_base.SolutionOutputs'>\n",
      "<class 'mediapipe.python.solution_base.SolutionOutputs'>\n",
      "<class 'mediapipe.python.solution_base.SolutionOutputs'>\n",
      "<class 'mediapipe.python.solution_base.SolutionOutputs'>\n",
      "<class 'mediapipe.python.solution_base.SolutionOutputs'>\n",
      "<class 'mediapipe.python.solution_base.SolutionOutputs'>\n",
      "<class 'mediapipe.python.solution_base.SolutionOutputs'>\n",
      "<class 'mediapipe.python.solution_base.SolutionOutputs'>\n",
      "<class 'mediapipe.python.solution_base.SolutionOutputs'>\n",
      "<class 'mediapipe.python.solution_base.SolutionOutputs'>\n",
      "<class 'mediapipe.python.solution_base.SolutionOutputs'>\n",
      "<class 'mediapipe.python.solution_base.SolutionOutputs'>\n",
      "<class 'mediapipe.python.solution_base.SolutionOutputs'>\n",
      "<class 'mediapipe.python.solution_base.SolutionOutputs'>\n",
      "<class 'mediapipe.python.solution_base.SolutionOutputs'>\n",
      "<class 'mediapipe.python.solution_base.SolutionOutputs'>\n",
      "<class 'mediapipe.python.solution_base.SolutionOutputs'>\n",
      "<class 'mediapipe.python.solution_base.SolutionOutputs'>\n",
      "<class 'mediapipe.python.solution_base.SolutionOutputs'>\n",
      "<class 'mediapipe.python.solution_base.SolutionOutputs'>\n",
      "<class 'mediapipe.python.solution_base.SolutionOutputs'>\n",
      "<class 'mediapipe.python.solution_base.SolutionOutputs'>\n",
      "<class 'mediapipe.python.solution_base.SolutionOutputs'>\n",
      "<class 'mediapipe.python.solution_base.SolutionOutputs'>\n",
      "<class 'mediapipe.python.solution_base.SolutionOutputs'>\n",
      "<class 'mediapipe.python.solution_base.SolutionOutputs'>\n",
      "<class 'mediapipe.python.solution_base.SolutionOutputs'>\n",
      "<class 'mediapipe.python.solution_base.SolutionOutputs'>\n",
      "<class 'mediapipe.python.solution_base.SolutionOutputs'>\n",
      "<class 'mediapipe.python.solution_base.SolutionOutputs'>\n",
      "<class 'mediapipe.python.solution_base.SolutionOutputs'>\n",
      "<class 'mediapipe.python.solution_base.SolutionOutputs'>\n",
      "<class 'mediapipe.python.solution_base.SolutionOutputs'>\n",
      "<class 'mediapipe.python.solution_base.SolutionOutputs'>\n",
      "<class 'mediapipe.python.solution_base.SolutionOutputs'>\n",
      "<class 'mediapipe.python.solution_base.SolutionOutputs'>\n",
      "<class 'mediapipe.python.solution_base.SolutionOutputs'>\n",
      "<class 'mediapipe.python.solution_base.SolutionOutputs'>\n",
      "<class 'mediapipe.python.solution_base.SolutionOutputs'>\n",
      "<class 'mediapipe.python.solution_base.SolutionOutputs'>\n",
      "<class 'mediapipe.python.solution_base.SolutionOutputs'>\n",
      "<class 'mediapipe.python.solution_base.SolutionOutputs'>\n",
      "<class 'mediapipe.python.solution_base.SolutionOutputs'>\n",
      "<class 'mediapipe.python.solution_base.SolutionOutputs'>\n",
      "<class 'mediapipe.python.solution_base.SolutionOutputs'>\n",
      "<class 'mediapipe.python.solution_base.SolutionOutputs'>\n",
      "<class 'mediapipe.python.solution_base.SolutionOutputs'>\n",
      "<class 'mediapipe.python.solution_base.SolutionOutputs'>\n",
      "<class 'mediapipe.python.solution_base.SolutionOutputs'>\n",
      "<class 'mediapipe.python.solution_base.SolutionOutputs'>\n",
      "<class 'mediapipe.python.solution_base.SolutionOutputs'>\n",
      "<class 'mediapipe.python.solution_base.SolutionOutputs'>\n",
      "<class 'mediapipe.python.solution_base.SolutionOutputs'>\n",
      "<class 'mediapipe.python.solution_base.SolutionOutputs'>\n",
      "<class 'mediapipe.python.solution_base.SolutionOutputs'>\n",
      "<class 'mediapipe.python.solution_base.SolutionOutputs'>\n",
      "<class 'mediapipe.python.solution_base.SolutionOutputs'>\n",
      "<class 'mediapipe.python.solution_base.SolutionOutputs'>\n",
      "<class 'mediapipe.python.solution_base.SolutionOutputs'>\n",
      "<class 'mediapipe.python.solution_base.SolutionOutputs'>\n",
      "<class 'mediapipe.python.solution_base.SolutionOutputs'>\n",
      "<class 'mediapipe.python.solution_base.SolutionOutputs'>\n",
      "<class 'mediapipe.python.solution_base.SolutionOutputs'>\n",
      "<class 'mediapipe.python.solution_base.SolutionOutputs'>\n",
      "<class 'mediapipe.python.solution_base.SolutionOutputs'>\n",
      "<class 'mediapipe.python.solution_base.SolutionOutputs'>\n",
      "<class 'mediapipe.python.solution_base.SolutionOutputs'>\n",
      "<class 'mediapipe.python.solution_base.SolutionOutputs'>\n",
      "<class 'mediapipe.python.solution_base.SolutionOutputs'>\n",
      "<class 'mediapipe.python.solution_base.SolutionOutputs'>\n",
      "<class 'mediapipe.python.solution_base.SolutionOutputs'>\n",
      "<class 'mediapipe.python.solution_base.SolutionOutputs'>\n",
      "<class 'mediapipe.python.solution_base.SolutionOutputs'>\n",
      "<class 'mediapipe.python.solution_base.SolutionOutputs'>\n",
      "<class 'mediapipe.python.solution_base.SolutionOutputs'>\n",
      "<class 'mediapipe.python.solution_base.SolutionOutputs'>\n",
      "<class 'mediapipe.python.solution_base.SolutionOutputs'>\n",
      "<class 'mediapipe.python.solution_base.SolutionOutputs'>\n",
      "<class 'mediapipe.python.solution_base.SolutionOutputs'>\n",
      "<class 'mediapipe.python.solution_base.SolutionOutputs'>\n",
      "<class 'mediapipe.python.solution_base.SolutionOutputs'>\n",
      "<class 'mediapipe.python.solution_base.SolutionOutputs'>\n",
      "<class 'mediapipe.python.solution_base.SolutionOutputs'>\n",
      "<class 'mediapipe.python.solution_base.SolutionOutputs'>\n",
      "<class 'mediapipe.python.solution_base.SolutionOutputs'>\n",
      "<class 'mediapipe.python.solution_base.SolutionOutputs'>\n",
      "<class 'mediapipe.python.solution_base.SolutionOutputs'>\n",
      "<class 'mediapipe.python.solution_base.SolutionOutputs'>\n"
     ]
    }
   ],
   "source": [
    "cap = cv2.VideoCapture(0)\n",
    "# Set mediapipe model \n",
    "with mp_holistic.Holistic(min_detection_confidence=0.5, min_tracking_confidence=0.5) as holistic:\n",
    "    while cap.isOpened():\n",
    "\n",
    "        # Read feed\n",
    "        ret, frame = cap.read()\n",
    "\n",
    "        # Make detections\n",
    "        image, results = mediapipe_detection(frame, holistic)\n",
    "        print(results)\n",
    "        \n",
    "        # Draw landmarks\n",
    "        draw_styled_landmarks(image, results)\n",
    "\n",
    "        # Show to screen\n",
    "        cv2.imshow('OpenCV Feed', image)\n",
    "\n",
    "        # Break gracefully\n",
    "        if cv2.waitKey(10) & 0xFF == ord('q'):\n",
    "            break\n",
    "    cap.release()\n",
    "    cv2.destroyAllWindows()"
   ]
  },
  {
   "cell_type": "code",
   "execution_count": 8,
   "metadata": {},
   "outputs": [
    {
     "data": {
      "text/plain": [
       "21"
      ]
     },
     "execution_count": 8,
     "metadata": {},
     "output_type": "execute_result"
    }
   ],
   "source": [
    "len(results.left_hand_landmarks.landmark)"
   ]
  },
  {
   "cell_type": "code",
   "execution_count": 9,
   "metadata": {},
   "outputs": [
    {
     "data": {
      "text/plain": [
       "mediapipe.python.solution_base.SolutionOutputs"
      ]
     },
     "execution_count": 9,
     "metadata": {},
     "output_type": "execute_result"
    }
   ],
   "source": [
    "results"
   ]
  },
  {
   "cell_type": "code",
   "execution_count": 10,
   "metadata": {},
   "outputs": [],
   "source": [
    "draw_landmarks(frame, results)"
   ]
  },
  {
   "cell_type": "code",
   "execution_count": 11,
   "metadata": {},
   "outputs": [
    {
     "data": {
      "text/plain": [
       "<matplotlib.image.AxesImage at 0x26c8d03deb0>"
      ]
     },
     "execution_count": 11,
     "metadata": {},
     "output_type": "execute_result"
    },
    {
     "data": {
      "image/png": "[encoded data removed]",
      "text/plain": [
       "<Figure size 640x480 with 1 Axes>"
      ]
     },
     "metadata": {},
     "output_type": "display_data"
    }
   ],
   "source": [
    "plt.imshow(cv2.cvtColor(frame, cv2.COLOR_BGR2RGB))"
   ]
  },
  {
   "cell_type": "markdown",
   "metadata": {},
   "source": [
    "# 3. Extract Keypoint Values"
   ]
  },
  {
   "cell_type": "code",
   "execution_count": 12,
   "metadata": {},
   "outputs": [],
   "source": [
    "pose = []\n",
    "for res in results.pose_landmarks.landmark:\n",
    "    test = np.array([res.x, res.y, res.z, res.visibility])\n",
    "    pose.append(test)"
   ]
  },
  {
   "cell_type": "code",
   "execution_count": 13,
   "metadata": {},
   "outputs": [],
   "source": [
    "pose = np.array([[res.x, res.y, res.z, res.visibility] for res in results.pose_landmarks.landmark]).flatten() if results.pose_landmarks else np.zeros(132)\n",
    "lh = np.array([[res.x, res.y, res.z] for res in results.left_hand_landmarks.landmark]).flatten() if results.left_hand_landmarks else np.zeros(21*3)\n",
    "rh = np.array([[res.x, res.y, res.z] for res in results.right_hand_landmarks.landmark]).flatten() if results.right_hand_landmarks else np.zeros(21*3)"
   ]
  },
  {
   "cell_type": "code",
   "execution_count": 14,
   "metadata": {},
   "outputs": [],
   "source": [
    "def extract_keypoints(results):\n",
    "    pose = np.array([[res.x, res.y, res.z, res.visibility] for res in results.pose_landmarks.landmark]).flatten() if results.pose_landmarks else np.zeros(33*4)\n",
    "    lh = np.array([[res.x, res.y, res.z] for res in results.left_hand_landmarks.landmark]).flatten() if results.left_hand_landmarks else np.zeros(21*3)\n",
    "    rh = np.array([[res.x, res.y, res.z] for res in results.right_hand_landmarks.landmark]).flatten() if results.right_hand_landmarks else np.zeros(21*3)\n",
    "    return np.concatenate([pose, lh, rh])"
   ]
  },
  {
   "cell_type": "code",
   "execution_count": 15,
   "metadata": {},
   "outputs": [],
   "source": [
    "result_test = extract_keypoints(results)"
   ]
  },
  {
   "cell_type": "code",
   "execution_count": 16,
   "metadata": {},
   "outputs": [
    {
     "data": {
      "text/plain": [
       "array([ 6.18022084e-01,  7.10641980e-01, -6.31196022e-01,  9.99959230e-01,\n",
       "        6.38345003e-01,  6.62795484e-01, -5.76115966e-01,  9.99952197e-01,\n",
       "        6.50160134e-01,  6.62206292e-01, -5.76230288e-01,  9.99956608e-01,\n",
       "        6.61688209e-01,  6.62400484e-01, -5.76256514e-01,  9.99953687e-01,\n",
       "        5.98225951e-01,  6.62974477e-01, -5.95011115e-01,  9.99937713e-01,\n",
       "        5.83389521e-01,  6.62204802e-01, -5.94220519e-01,  9.99936759e-01,\n",
       "        5.70343614e-01,  6.61778629e-01, -5.94593465e-01,  9.99927223e-01,\n",
       "        6.75149798e-01,  6.80320561e-01, -2.09098890e-01,  9.99969363e-01,\n",
       "        5.43383837e-01,  6.72503769e-01, -2.63453901e-01,  9.99948144e-01,\n",
       "        6.37394488e-01,  7.59468198e-01, -4.94942278e-01,  9.99958813e-01,\n",
       "        5.90385079e-01,  7.55878150e-01, -5.21628201e-01,  9.99941468e-01,\n",
       "        7.74402976e-01,  8.96942914e-01, -1.96115881e-01,  9.99580443e-01,\n",
       "        4.57595736e-01,  8.84702444e-01, -1.40394986e-01,  9.96684492e-01,\n",
       "        1.02632737e+00,  1.10651314e+00, -6.97962224e-01,  9.56640482e-01,\n",
       "        3.32644939e-01,  1.04067647e+00, -6.56176865e-01,  8.43303204e-01,\n",
       "        9.32864964e-01,  8.35819840e-01, -1.00432229e+00,  9.87023830e-01,\n",
       "        4.46542114e-01,  7.79388785e-01, -1.28547502e+00,  8.61046612e-01,\n",
       "        9.36934114e-01,  6.95976973e-01, -1.08570707e+00,  9.83418226e-01,\n",
       "        4.48066473e-01,  6.51603639e-01, -1.41388381e+00,  8.65521550e-01,\n",
       "        8.95271778e-01,  6.87387645e-01, -8.71331036e-01,  9.85055208e-01,\n",
       "        4.74083602e-01,  6.50795221e-01, -1.31628108e+00,  8.79138231e-01,\n",
       "        8.70668888e-01,  7.54415572e-01, -9.41384912e-01,  9.82333720e-01,\n",
       "        4.90519226e-01,  7.00160265e-01, -1.27250302e+00,  8.74569714e-01,\n",
       "        7.18756080e-01,  1.47499061e+00, -1.06192790e-01,  3.78313707e-03,\n",
       "        4.84250158e-01,  1.46483409e+00,  1.11101702e-01,  2.40064599e-03,\n",
       "        6.90385520e-01,  1.97145593e+00, -2.64772654e-01,  3.16675194e-03,\n",
       "        4.87253726e-01,  1.96503210e+00,  2.91094899e-01,  1.02498976e-03,\n",
       "        6.74559414e-01,  2.43129754e+00,  4.71964851e-02,  1.79770228e-04,\n",
       "        4.74224657e-01,  2.41532588e+00,  5.30745625e-01,  1.86855086e-05,\n",
       "        6.81482136e-01,  2.49901795e+00,  5.16261458e-02,  1.74730638e-04,\n",
       "        4.65929270e-01,  2.47866082e+00,  5.45074165e-01,  5.29064382e-05,\n",
       "        6.31735206e-01,  2.56450200e+00, -4.31878626e-01,  1.68273153e-04,\n",
       "        4.93515074e-01,  2.56450129e+00,  6.50339797e-02,  1.58911003e-04,\n",
       "        9.35154319e-01,  8.00574064e-01,  2.22855220e-07,  8.91067505e-01,\n",
       "        7.72991121e-01, -1.74728129e-02,  8.58416557e-01,  7.21870840e-01,\n",
       "       -2.18723323e-02,  8.38124156e-01,  6.76716208e-01, -2.43354756e-02,\n",
       "        8.20565999e-01,  6.41067326e-01, -2.51960661e-02,  8.91898870e-01,\n",
       "        6.47222579e-01, -2.79877940e-03,  8.79372716e-01,  5.86005211e-01,\n",
       "       -1.03462161e-02,  8.70821834e-01,  5.50010622e-01, -1.86297745e-02,\n",
       "        8.63832057e-01,  5.17917693e-01, -2.47488879e-02,  9.17518377e-01,\n",
       "        6.42114282e-01, -5.85677742e-04,  9.10826504e-01,  5.77746332e-01,\n",
       "       -2.51628412e-03,  9.06065404e-01,  5.38992226e-01, -6.84675574e-03,\n",
       "        9.01737273e-01,  5.06613195e-01, -1.06324777e-02,  9.41940010e-01,\n",
       "        6.50219679e-01, -1.68370013e-03,  9.38344896e-01,  5.94050825e-01,\n",
       "       -3.70040559e-03,  9.35669959e-01,  5.60133100e-01, -4.97687794e-03,\n",
       "        9.32346523e-01,  5.30220151e-01, -6.81782048e-03,  9.66116905e-01,\n",
       "        6.67642295e-01, -5.26711205e-03,  9.67902362e-01,  6.28060102e-01,\n",
       "       -6.65930752e-03,  9.67159033e-01,  6.04201138e-01, -4.99699591e-03,\n",
       "        9.66771185e-01,  5.81876397e-01, -3.92689137e-03,  4.52671826e-01,\n",
       "        7.71600306e-01,  3.09334780e-07,  4.96196538e-01,  7.45892882e-01,\n",
       "       -2.07059439e-02,  5.25291741e-01,  6.95643544e-01, -2.80152783e-02,\n",
       "        5.39881825e-01,  6.46759808e-01, -3.36855426e-02,  5.55801570e-01,\n",
       "        6.13507986e-01, -3.89185362e-02,  4.91646916e-01,  6.20449483e-01,\n",
       "       -1.55388089e-02,  5.05955040e-01,  5.61425090e-01, -2.82447059e-02,\n",
       "        5.13344586e-01,  5.24117589e-01, -3.84560376e-02,  5.18585443e-01,\n",
       "        4.92066622e-01, -4.61321324e-02,  4.62370217e-01,  6.14283204e-01,\n",
       "       -1.48558635e-02,  4.62478578e-01,  5.45528233e-01, -2.64467485e-02,\n",
       "        4.63213354e-01,  5.02468646e-01, -3.61954235e-02,  4.63573903e-01,\n",
       "        4.66619283e-01, -4.30749431e-02,  4.37426686e-01,  6.23969436e-01,\n",
       "       -1.69783197e-02,  4.27715302e-01,  5.64903736e-01, -2.98633631e-02,\n",
       "        4.24436301e-01,  5.24443805e-01, -3.96587588e-02,  4.23263639e-01,\n",
       "        4.88175809e-01, -4.60941195e-02,  4.15345460e-01,  6.46642625e-01,\n",
       "       -2.10960526e-02,  3.99167776e-01,  6.05540276e-01, -3.45029607e-02,\n",
       "        3.89219403e-01,  5.76657891e-01, -4.16259952e-02,  3.81817818e-01,\n",
       "        5.48026025e-01, -4.58187945e-02])"
      ]
     },
     "execution_count": 16,
     "metadata": {},
     "output_type": "execute_result"
    }
   ],
   "source": [
    "result_test"
   ]
  },
  {
   "cell_type": "code",
   "execution_count": 17,
   "metadata": {},
   "outputs": [],
   "source": [
    "np.save('0', result_test)"
   ]
  },
  {
   "cell_type": "code",
   "execution_count": 18,
   "metadata": {},
   "outputs": [
    {
     "data": {
      "text/plain": [
       "array([ 6.18022084e-01,  7.10641980e-01, -6.31196022e-01,  9.99959230e-01,\n",
       "        6.38345003e-01,  6.62795484e-01, -5.76115966e-01,  9.99952197e-01,\n",
       "        6.50160134e-01,  6.62206292e-01, -5.76230288e-01,  9.99956608e-01,\n",
       "        6.61688209e-01,  6.62400484e-01, -5.76256514e-01,  9.99953687e-01,\n",
       "        5.98225951e-01,  6.62974477e-01, -5.95011115e-01,  9.99937713e-01,\n",
       "        5.83389521e-01,  6.62204802e-01, -5.94220519e-01,  9.99936759e-01,\n",
       "        5.70343614e-01,  6.61778629e-01, -5.94593465e-01,  9.99927223e-01,\n",
       "        6.75149798e-01,  6.80320561e-01, -2.09098890e-01,  9.99969363e-01,\n",
       "        5.43383837e-01,  6.72503769e-01, -2.63453901e-01,  9.99948144e-01,\n",
       "        6.37394488e-01,  7.59468198e-01, -4.94942278e-01,  9.99958813e-01,\n",
       "        5.90385079e-01,  7.55878150e-01, -5.21628201e-01,  9.99941468e-01,\n",
       "        7.74402976e-01,  8.96942914e-01, -1.96115881e-01,  9.99580443e-01,\n",
       "        4.57595736e-01,  8.84702444e-01, -1.40394986e-01,  9.96684492e-01,\n",
       "        1.02632737e+00,  1.10651314e+00, -6.97962224e-01,  9.56640482e-01,\n",
       "        3.32644939e-01,  1.04067647e+00, -6.56176865e-01,  8.43303204e-01,\n",
       "        9.32864964e-01,  8.35819840e-01, -1.00432229e+00,  9.87023830e-01,\n",
       "        4.46542114e-01,  7.79388785e-01, -1.28547502e+00,  8.61046612e-01,\n",
       "        9.36934114e-01,  6.95976973e-01, -1.08570707e+00,  9.83418226e-01,\n",
       "        4.48066473e-01,  6.51603639e-01, -1.41388381e+00,  8.65521550e-01,\n",
       "        8.95271778e-01,  6.87387645e-01, -8.71331036e-01,  9.85055208e-01,\n",
       "        4.74083602e-01,  6.50795221e-01, -1.31628108e+00,  8.79138231e-01,\n",
       "        8.70668888e-01,  7.54415572e-01, -9.41384912e-01,  9.82333720e-01,\n",
       "        4.90519226e-01,  7.00160265e-01, -1.27250302e+00,  8.74569714e-01,\n",
       "        7.18756080e-01,  1.47499061e+00, -1.06192790e-01,  3.78313707e-03,\n",
       "        4.84250158e-01,  1.46483409e+00,  1.11101702e-01,  2.40064599e-03,\n",
       "        6.90385520e-01,  1.97145593e+00, -2.64772654e-01,  3.16675194e-03,\n",
       "        4.87253726e-01,  1.96503210e+00,  2.91094899e-01,  1.02498976e-03,\n",
       "        6.74559414e-01,  2.43129754e+00,  4.71964851e-02,  1.79770228e-04,\n",
       "        4.74224657e-01,  2.41532588e+00,  5.30745625e-01,  1.86855086e-05,\n",
       "        6.81482136e-01,  2.49901795e+00,  5.16261458e-02,  1.74730638e-04,\n",
       "        4.65929270e-01,  2.47866082e+00,  5.45074165e-01,  5.29064382e-05,\n",
       "        6.31735206e-01,  2.56450200e+00, -4.31878626e-01,  1.68273153e-04,\n",
       "        4.93515074e-01,  2.56450129e+00,  6.50339797e-02,  1.58911003e-04,\n",
       "        9.35154319e-01,  8.00574064e-01,  2.22855220e-07,  8.91067505e-01,\n",
       "        7.72991121e-01, -1.74728129e-02,  8.58416557e-01,  7.21870840e-01,\n",
       "       -2.18723323e-02,  8.38124156e-01,  6.76716208e-01, -2.43354756e-02,\n",
       "        8.20565999e-01,  6.41067326e-01, -2.51960661e-02,  8.91898870e-01,\n",
       "        6.47222579e-01, -2.79877940e-03,  8.79372716e-01,  5.86005211e-01,\n",
       "       -1.03462161e-02,  8.70821834e-01,  5.50010622e-01, -1.86297745e-02,\n",
       "        8.63832057e-01,  5.17917693e-01, -2.47488879e-02,  9.17518377e-01,\n",
       "        6.42114282e-01, -5.85677742e-04,  9.10826504e-01,  5.77746332e-01,\n",
       "       -2.51628412e-03,  9.06065404e-01,  5.38992226e-01, -6.84675574e-03,\n",
       "        9.01737273e-01,  5.06613195e-01, -1.06324777e-02,  9.41940010e-01,\n",
       "        6.50219679e-01, -1.68370013e-03,  9.38344896e-01,  5.94050825e-01,\n",
       "       -3.70040559e-03,  9.35669959e-01,  5.60133100e-01, -4.97687794e-03,\n",
       "        9.32346523e-01,  5.30220151e-01, -6.81782048e-03,  9.66116905e-01,\n",
       "        6.67642295e-01, -5.26711205e-03,  9.67902362e-01,  6.28060102e-01,\n",
       "       -6.65930752e-03,  9.67159033e-01,  6.04201138e-01, -4.99699591e-03,\n",
       "        9.66771185e-01,  5.81876397e-01, -3.92689137e-03,  4.52671826e-01,\n",
       "        7.71600306e-01,  3.09334780e-07,  4.96196538e-01,  7.45892882e-01,\n",
       "       -2.07059439e-02,  5.25291741e-01,  6.95643544e-01, -2.80152783e-02,\n",
       "        5.39881825e-01,  6.46759808e-01, -3.36855426e-02,  5.55801570e-01,\n",
       "        6.13507986e-01, -3.89185362e-02,  4.91646916e-01,  6.20449483e-01,\n",
       "       -1.55388089e-02,  5.05955040e-01,  5.61425090e-01, -2.82447059e-02,\n",
       "        5.13344586e-01,  5.24117589e-01, -3.84560376e-02,  5.18585443e-01,\n",
       "        4.92066622e-01, -4.61321324e-02,  4.62370217e-01,  6.14283204e-01,\n",
       "       -1.48558635e-02,  4.62478578e-01,  5.45528233e-01, -2.64467485e-02,\n",
       "        4.63213354e-01,  5.02468646e-01, -3.61954235e-02,  4.63573903e-01,\n",
       "        4.66619283e-01, -4.30749431e-02,  4.37426686e-01,  6.23969436e-01,\n",
       "       -1.69783197e-02,  4.27715302e-01,  5.64903736e-01, -2.98633631e-02,\n",
       "        4.24436301e-01,  5.24443805e-01, -3.96587588e-02,  4.23263639e-01,\n",
       "        4.88175809e-01, -4.60941195e-02,  4.15345460e-01,  6.46642625e-01,\n",
       "       -2.10960526e-02,  3.99167776e-01,  6.05540276e-01, -3.45029607e-02,\n",
       "        3.89219403e-01,  5.76657891e-01, -4.16259952e-02,  3.81817818e-01,\n",
       "        5.48026025e-01, -4.58187945e-02])"
      ]
     },
     "execution_count": 18,
     "metadata": {},
     "output_type": "execute_result"
    }
   ],
   "source": [
    "np.load('0.npy')"
   ]
  },
  {
   "cell_type": "markdown",
   "metadata": {},
   "source": [
    "# 4. Setup Folders for Collection"
   ]
  },
  {
   "cell_type": "code",
   "execution_count": 21,
   "metadata": {},
   "outputs": [],
   "source": [
    "# Path for exported data, numpy arrays\n",
    "DATA_PATH = os.path.join('MP_Data333') \n",
    "\n",
    "# Actions that we try to detect\n",
    "actions = np.array(['stop', 'like', 'dislike'])\n",
    "\n",
    "# Thirty videos worth of data\n",
    "no_sequences = 30\n",
    "\n",
    "# Videos are going to be 30 frames in length\n",
    "sequence_length = 30"
   ]
  },
  {
   "cell_type": "code",
   "execution_count": 22,
   "metadata": {},
   "outputs": [],
   "source": [
    "for action in actions: \n",
    "    for sequence in range(no_sequences):\n",
    "        try: \n",
    "            os.makedirs(os.path.join(DATA_PATH, action, str(sequence)))\n",
    "        except:\n",
    "            pass"
   ]
  },
  {
   "cell_type": "markdown",
   "metadata": {},
   "source": [
    "# 5. Collect Keypoint Values for Training and Testing"
   ]
  },
  {
   "cell_type": "code",
   "execution_count": 23,
   "metadata": {},
   "outputs": [],
   "source": [
    "cap = cv2.VideoCapture(0)\n",
    "# Set mediapipe model \n",
    "with mp_holistic.Holistic(min_detection_confidence=0.5, min_tracking_confidence=0.5) as holistic:\n",
    "    \n",
    "    # NEW LOOP\n",
    "    # Loop through actions\n",
    "    for action in actions:\n",
    "        # Loop through sequences aka videos\n",
    "        for sequence in range(no_sequences):\n",
    "            # Loop through video length aka sequence length\n",
    "            for frame_num in range(sequence_length):\n",
    "\n",
    "                # Read feed\n",
    "                ret, frame = cap.read()\n",
    "\n",
    "                # Make detections\n",
    "                image, results = mediapipe_detection(frame, holistic)\n",
    "#                 print(results)\n",
    "\n",
    "                # Draw landmarks\n",
    "                draw_styled_landmarks(image, results)\n",
    "                \n",
    "                # NEW Apply wait logic\n",
    "                if frame_num == 0: \n",
    "                    cv2.putText(image, 'STARTING COLLECTION', (120,200), \n",
    "                               cv2.FONT_HERSHEY_SIMPLEX, 1, (0,255, 0), 4, cv2.LINE_AA)\n",
    "                    cv2.putText(image, 'Collecting frames for {} Video Number {}'.format(action, sequence), (15,12), \n",
    "                               cv2.FONT_HERSHEY_SIMPLEX, 0.5, (0, 0, 255), 1, cv2.LINE_AA)\n",
    "                    # Show to screen\n",
    "                    cv2.imshow('OpenCV Feed', image)\n",
    "                    cv2.waitKey(2000)\n",
    "                else: \n",
    "                    cv2.putText(image, 'Collecting frames for {} Video Number {}'.format(action, sequence), (15,12), \n",
    "                               cv2.FONT_HERSHEY_SIMPLEX, 0.5, (0, 0, 255), 1, cv2.LINE_AA)\n",
    "                    # Show to screen\n",
    "                    cv2.imshow('OpenCV Feed', image)\n",
    "                \n",
    "                # NEW Export keypoints\n",
    "                keypoints = extract_keypoints(results)\n",
    "                npy_path = os.path.join(DATA_PATH, action, str(sequence), str(frame_num))\n",
    "                np.save(npy_path, keypoints)\n",
    "\n",
    "                # Break gracefully\n",
    "                if cv2.waitKey(10) & 0xFF == ord('q'):\n",
    "                    break\n",
    "                    \n",
    "    cap.release()\n",
    "    cv2.destroyAllWindows()"
   ]
  },
  {
   "cell_type": "code",
   "execution_count": 24,
   "metadata": {},
   "outputs": [],
   "source": [
    "cap.release()\n",
    "cv2.destroyAllWindows()"
   ]
  },
  {
   "cell_type": "markdown",
   "metadata": {},
   "source": [
    "# 6. Preprocess Data and Create Labels and Features"
   ]
  },
  {
   "cell_type": "code",
   "execution_count": 25,
   "metadata": {},
   "outputs": [],
   "source": [
    "from sklearn.model_selection import train_test_split\n",
    "from tensorflow.keras.utils import to_categorical"
   ]
  },
  {
   "cell_type": "code",
   "execution_count": 26,
   "metadata": {},
   "outputs": [],
   "source": [
    "label_map = {label:num for num, label in enumerate(actions)}"
   ]
  },
  {
   "cell_type": "code",
   "execution_count": 27,
   "metadata": {},
   "outputs": [
    {
     "data": {
      "text/plain": [
       "{'stop': 0, 'like': 1, 'dislike': 2}"
      ]
     },
     "execution_count": 27,
     "metadata": {},
     "output_type": "execute_result"
    }
   ],
   "source": [
    "label_map"
   ]
  },
  {
   "cell_type": "code",
   "execution_count": 28,
   "metadata": {},
   "outputs": [],
   "source": [
    "sequences, labels = [], []\n",
    "for action in actions:\n",
    "    for sequence in range(no_sequences):\n",
    "        window = []\n",
    "        for frame_num in range(sequence_length):\n",
    "            res = np.load(os.path.join(DATA_PATH, action, str(sequence), \"{}.npy\".format(frame_num)))\n",
    "            window.append(res)\n",
    "        sequences.append(window)\n",
    "        labels.append(label_map[action])"
   ]
  },
  {
   "cell_type": "code",
   "execution_count": 29,
   "metadata": {},
   "outputs": [
    {
     "data": {
      "text/plain": [
       "(90, 30, 258)"
      ]
     },
     "execution_count": 29,
     "metadata": {},
     "output_type": "execute_result"
    }
   ],
   "source": [
    "np.array(sequences).shape"
   ]
  },
  {
   "cell_type": "code",
   "execution_count": 30,
   "metadata": {},
   "outputs": [
    {
     "data": {
      "text/plain": [
       "(90,)"
      ]
     },
     "execution_count": 30,
     "metadata": {},
     "output_type": "execute_result"
    }
   ],
   "source": [
    "np.array(labels).shape"
   ]
  },
  {
   "cell_type": "code",
   "execution_count": 31,
   "metadata": {},
   "outputs": [],
   "source": [
    "X = np.array(sequences)"
   ]
  },
  {
   "cell_type": "code",
   "execution_count": 32,
   "metadata": {},
   "outputs": [
    {
     "data": {
      "text/plain": [
       "(90, 30, 258)"
      ]
     },
     "execution_count": 32,
     "metadata": {},
     "output_type": "execute_result"
    }
   ],
   "source": [
    "X.shape"
   ]
  },
  {
   "cell_type": "code",
   "execution_count": 33,
   "metadata": {},
   "outputs": [],
   "source": [
    "y = to_categorical(labels).astype(int)"
   ]
  },
  {
   "cell_type": "code",
   "execution_count": 34,
   "metadata": {},
   "outputs": [
    {
     "data": {
      "text/plain": [
       "array([[1, 0, 0],\n",
       "       [1, 0, 0],\n",
       "       [1, 0, 0],\n",
       "       [1, 0, 0],\n",
       "       [1, 0, 0],\n",
       "       [1, 0, 0],\n",
       "       [1, 0, 0],\n",
       "       [1, 0, 0],\n",
       "       [1, 0, 0],\n",
       "       [1, 0, 0],\n",
       "       [1, 0, 0],\n",
       "       [1, 0, 0],\n",
       "       [1, 0, 0],\n",
       "       [1, 0, 0],\n",
       "       [1, 0, 0],\n",
       "       [1, 0, 0],\n",
       "       [1, 0, 0],\n",
       "       [1, 0, 0],\n",
       "       [1, 0, 0],\n",
       "       [1, 0, 0],\n",
       "       [1, 0, 0],\n",
       "       [1, 0, 0],\n",
       "       [1, 0, 0],\n",
       "       [1, 0, 0],\n",
       "       [1, 0, 0],\n",
       "       [1, 0, 0],\n",
       "       [1, 0, 0],\n",
       "       [1, 0, 0],\n",
       "       [1, 0, 0],\n",
       "       [1, 0, 0],\n",
       "       [0, 1, 0],\n",
       "       [0, 1, 0],\n",
       "       [0, 1, 0],\n",
       "       [0, 1, 0],\n",
       "       [0, 1, 0],\n",
       "       [0, 1, 0],\n",
       "       [0, 1, 0],\n",
       "       [0, 1, 0],\n",
       "       [0, 1, 0],\n",
       "       [0, 1, 0],\n",
       "       [0, 1, 0],\n",
       "       [0, 1, 0],\n",
       "       [0, 1, 0],\n",
       "       [0, 1, 0],\n",
       "       [0, 1, 0],\n",
       "       [0, 1, 0],\n",
       "       [0, 1, 0],\n",
       "       [0, 1, 0],\n",
       "       [0, 1, 0],\n",
       "       [0, 1, 0],\n",
       "       [0, 1, 0],\n",
       "       [0, 1, 0],\n",
       "       [0, 1, 0],\n",
       "       [0, 1, 0],\n",
       "       [0, 1, 0],\n",
       "       [0, 1, 0],\n",
       "       [0, 1, 0],\n",
       "       [0, 1, 0],\n",
       "       [0, 1, 0],\n",
       "       [0, 1, 0],\n",
       "       [0, 0, 1],\n",
       "       [0, 0, 1],\n",
       "       [0, 0, 1],\n",
       "       [0, 0, 1],\n",
       "       [0, 0, 1],\n",
       "       [0, 0, 1],\n",
       "       [0, 0, 1],\n",
       "       [0, 0, 1],\n",
       "       [0, 0, 1],\n",
       "       [0, 0, 1],\n",
       "       [0, 0, 1],\n",
       "       [0, 0, 1],\n",
       "       [0, 0, 1],\n",
       "       [0, 0, 1],\n",
       "       [0, 0, 1],\n",
       "       [0, 0, 1],\n",
       "       [0, 0, 1],\n",
       "       [0, 0, 1],\n",
       "       [0, 0, 1],\n",
       "       [0, 0, 1],\n",
       "       [0, 0, 1],\n",
       "       [0, 0, 1],\n",
       "       [0, 0, 1],\n",
       "       [0, 0, 1],\n",
       "       [0, 0, 1],\n",
       "       [0, 0, 1],\n",
       "       [0, 0, 1],\n",
       "       [0, 0, 1],\n",
       "       [0, 0, 1],\n",
       "       [0, 0, 1]])"
      ]
     },
     "execution_count": 34,
     "metadata": {},
     "output_type": "execute_result"
    }
   ],
   "source": [
    "y"
   ]
  },
  {
   "cell_type": "code",
   "execution_count": 35,
   "metadata": {},
   "outputs": [],
   "source": [
    "X_train, X_test, y_train, y_test = train_test_split(X, y, test_size=0.05)"
   ]
  },
  {
   "cell_type": "code",
   "execution_count": 36,
   "metadata": {},
   "outputs": [
    {
     "data": {
      "text/plain": [
       "(5, 3)"
      ]
     },
     "execution_count": 36,
     "metadata": {},
     "output_type": "execute_result"
    }
   ],
   "source": [
    "y_test.shape"
   ]
  },
  {
   "cell_type": "markdown",
   "metadata": {},
   "source": [
    "# 7. Build and Train LSTM Neural Network"
   ]
  },
  {
   "cell_type": "code",
   "execution_count": 37,
   "metadata": {},
   "outputs": [],
   "source": [
    "from tensorflow.keras.models import Sequential\n",
    "from tensorflow.keras.layers import LSTM, Dense\n",
    "from tensorflow.keras.callbacks import TensorBoard\n",
    "from sklearn.model_selection import GridSearchCV\n",
    "from tensorflow.keras.wrappers.scikit_learn import KerasClassifier"
   ]
  },
  {
   "cell_type": "code",
   "execution_count": 38,
   "metadata": {},
   "outputs": [],
   "source": [
    "import tensorflow as tf\n",
    "from tensorflow.keras import layers, models\n",
    "from tensorflow.keras.utils import plot_model\n",
    "import matplotlib.pyplot as plt"
   ]
  },
  {
   "cell_type": "code",
   "execution_count": 39,
   "metadata": {},
   "outputs": [],
   "source": [
    "log_dir = os.path.join('Logs')\n",
    "tb_callback = TensorBoard(log_dir=log_dir)"
   ]
  },
  {
   "cell_type": "code",
   "execution_count": 40,
   "metadata": {},
   "outputs": [],
   "source": [
    "def create_model(optimizer='adam', units=64, activation='relu'):\n",
    "    model = Sequential()\n",
    "    model.add(LSTM(units, return_sequences=True, activation=activation, input_shape=(30,258)))\n",
    "    model.add(LSTM(units*2, return_sequences=True, activation=activation))\n",
    "    model.add(LSTM(units, return_sequences=False, activation=activation))\n",
    "    model.add(Dense(64, activation=activation))\n",
    "    model.add(Dense(32, activation=activation))\n",
    "    model.add(Dense(actions.shape[0], activation='softmax'))\n",
    "    model.compile(optimizer=optimizer, loss='categorical_crossentropy', metrics=['accuracy'])\n",
    "    return model"
   ]
  },
  {
   "cell_type": "code",
   "execution_count": 41,
   "metadata": {},
   "outputs": [],
   "source": [
    "res = [.7, 0.2, 0.1]"
   ]
  },
  {
   "cell_type": "code",
   "execution_count": 42,
   "metadata": {},
   "outputs": [
    {
     "data": {
      "text/plain": [
       "'stop'"
      ]
     },
     "execution_count": 42,
     "metadata": {},
     "output_type": "execute_result"
    }
   ],
   "source": [
    "actions[np.argmax(res)]"
   ]
  },
  {
   "cell_type": "code",
   "execution_count": 43,
   "metadata": {},
   "outputs": [],
   "source": [
    "model = KerasClassifier(build_fn=create_model, verbose=0)"
   ]
  },
  {
   "cell_type": "code",
   "execution_count": 44,
   "metadata": {},
   "outputs": [],
   "source": [
    "# Define hyperparameters to tune\n",
    "param_grid = {\n",
    "    'optimizer': ['adam', 'rmsprop'],\n",
    "    'units': [64, 128],\n",
    "    'activation': ['relu', 'tanh']\n",
    "}"
   ]
  },
  {
   "cell_type": "code",
   "execution_count": 45,
   "metadata": {},
   "outputs": [],
   "source": [
    "# Perform grid search\n",
    "grid = GridSearchCV(estimator=model, param_grid=param_grid, n_jobs=-1, cv=3)\n",
    "grid_result = grid.fit(X_train, y_train)"
   ]
  },
  {
   "cell_type": "code",
   "execution_count": 46,
   "metadata": {},
   "outputs": [
    {
     "name": "stdout",
     "output_type": "stream",
     "text": [
      "Best: 0.376437 using {'activation': 'tanh', 'optimizer': 'rmsprop', 'units': 64}\n"
     ]
    }
   ],
   "source": [
    "print(\"Best: %f using %s\" % (grid_result.best_score_, grid_result.best_params_))"
   ]
  },
  {
   "cell_type": "code",
   "execution_count": 47,
   "metadata": {},
   "outputs": [],
   "source": [
    "# Get the best model from grid search\n",
    "best_model = grid_result.best_estimator_"
   ]
  },
  {
   "cell_type": "code",
   "execution_count": 48,
   "metadata": {},
   "outputs": [],
   "source": [
    "# Compile the best model\n",
    "best_model.model.compile(optimizer='adam', loss='categorical_crossentropy', metrics=['accuracy'])"
   ]
  },
  {
   "cell_type": "code",
   "execution_count": 49,
   "metadata": {},
   "outputs": [
    {
     "data": {
      "text/plain": [
       "<tensorflow.python.keras.callbacks.History at 0x26cb56bc640>"
      ]
     },
     "execution_count": 49,
     "metadata": {},
     "output_type": "execute_result"
    }
   ],
   "source": [
    "# Train the best model\n",
    "tb_callback = TensorBoard(log_dir=log_dir)\n",
    "best_model.fit(X_train, y_train, epochs=2000, callbacks=[tb_callback])"
   ]
  },
  {
   "cell_type": "code",
   "execution_count": 50,
   "metadata": {},
   "outputs": [],
   "source": [
    "from sklearn.model_selection import train_test_split\n",
    "\n",
    "# Split your original dataset into training and validation sets\n",
    "X_train, X_val, y_train, y_val = train_test_split(X, y, test_size=0.2, random_state=42)"
   ]
  },
  {
   "cell_type": "code",
   "execution_count": 51,
   "metadata": {},
   "outputs": [],
   "source": [
    "history = best_model.fit(X_train, y_train, epochs=2000, validation_data=(X_val, y_val))"
   ]
  },
  {
   "cell_type": "code",
   "execution_count": 52,
   "metadata": {},
   "outputs": [
    {
     "data": {
      "image/png": "[encoded data removed]",
      "text/plain": [
       "<Figure size 640x480 with 1 Axes>"
      ]
     },
     "metadata": {},
     "output_type": "display_data"
    }
   ],
   "source": [
    "plt.plot(history.history['loss'], label='train_loss')\n",
    "plt.plot(history.history['val_loss'], label='val_loss')\n",
    "plt.xlabel('Epoch')\n",
    "plt.ylabel('Loss')\n",
    "plt.title('Loss Over Time')\n",
    "plt.legend()\n",
    "plt.show()"
   ]
  },
  {
   "cell_type": "code",
   "execution_count": 53,
   "metadata": {},
   "outputs": [
    {
     "data": {
      "image/png": "[encoded data removed]",
      "text/plain": [
       "<Figure size 640x480 with 1 Axes>"
      ]
     },
     "metadata": {},
     "output_type": "display_data"
    }
   ],
   "source": [
    "plt.plot(history.history['accuracy'], label='train_accuracy')\n",
    "plt.plot(history.history['val_accuracy'], label='val_accuracy')\n",
    "plt.xlabel('Epoch')\n",
    "plt.ylabel('Accuracy')\n",
    "plt.title('Accuracy Over Time')\n",
    "plt.legend()\n",
    "plt.show()"
   ]
  },
  {
   "cell_type": "code",
   "execution_count": 54,
   "metadata": {},
   "outputs": [
    {
     "name": "stdout",
     "output_type": "stream",
     "text": [
      "Model: \"sequential_2\"\n",
      "_________________________________________________________________\n",
      "Layer (type)                 Output Shape              Param #   \n",
      "=================================================================\n",
      "lstm_6 (LSTM)                (None, 30, 64)            82688     \n",
      "_________________________________________________________________\n",
      "lstm_7 (LSTM)                (None, 30, 128)           98816     \n",
      "_________________________________________________________________\n",
      "lstm_8 (LSTM)                (None, 64)                49408     \n",
      "_________________________________________________________________\n",
      "dense_6 (Dense)              (None, 64)                4160      \n",
      "_________________________________________________________________\n",
      "dense_7 (Dense)              (None, 32)                2080      \n",
      "_________________________________________________________________\n",
      "dense_8 (Dense)              (None, 3)                 99        \n",
      "=================================================================\n",
      "Total params: 237,251\n",
      "Trainable params: 237,251\n",
      "Non-trainable params: 0\n",
      "_________________________________________________________________\n"
     ]
    }
   ],
   "source": [
    "best_model.model.summary()"
   ]
  },
  {
   "cell_type": "markdown",
   "metadata": {},
   "source": [
    "# 8. Make Predictions"
   ]
  },
  {
   "cell_type": "code",
   "execution_count": 55,
   "metadata": {},
   "outputs": [],
   "source": [
    "res = best_model.model.predict(X_test)"
   ]
  },
  {
   "cell_type": "code",
   "execution_count": 57,
   "metadata": {},
   "outputs": [
    {
     "data": {
      "text/plain": [
       "'stop'"
      ]
     },
     "execution_count": 57,
     "metadata": {},
     "output_type": "execute_result"
    }
   ],
   "source": [
    "actions[np.argmax(res[4])]"
   ]
  },
  {
   "cell_type": "code",
   "execution_count": 58,
   "metadata": {},
   "outputs": [
    {
     "data": {
      "text/plain": [
       "'stop'"
      ]
     },
     "execution_count": 58,
     "metadata": {},
     "output_type": "execute_result"
    }
   ],
   "source": [
    "actions[np.argmax(y_test[4])]"
   ]
  },
  {
   "cell_type": "markdown",
   "metadata": {},
   "source": [
    "# 9. Save Weights"
   ]
  },
  {
   "cell_type": "code",
   "execution_count": 59,
   "metadata": {},
   "outputs": [],
   "source": [
    "best_model.model.save('action222.h5')"
   ]
  },
  {
   "cell_type": "code",
   "execution_count": 61,
   "metadata": {},
   "outputs": [],
   "source": [
    "best_model.model.load_weights('action222.h5')"
   ]
  },
  {
   "cell_type": "markdown",
   "metadata": {},
   "source": [
    "# 10. Evaluation using Confusion Matrix and Accuracy"
   ]
  },
  {
   "cell_type": "code",
   "execution_count": 62,
   "metadata": {},
   "outputs": [],
   "source": [
    "from sklearn.metrics import multilabel_confusion_matrix, accuracy_score"
   ]
  },
  {
   "cell_type": "code",
   "execution_count": 63,
   "metadata": {},
   "outputs": [],
   "source": [
    "yhat = best_model.model.predict(X_test)"
   ]
  },
  {
   "cell_type": "code",
   "execution_count": 64,
   "metadata": {},
   "outputs": [],
   "source": [
    "ytrue = np.argmax(y_test, axis=1).tolist()\n",
    "yhat = np.argmax(yhat, axis=1).tolist()"
   ]
  },
  {
   "cell_type": "code",
   "execution_count": 65,
   "metadata": {},
   "outputs": [
    {
     "data": {
      "text/plain": [
       "array([[[2, 0],\n",
       "        [0, 3]],\n",
       "\n",
       "       [[3, 0],\n",
       "        [0, 2]]], dtype=int64)"
      ]
     },
     "execution_count": 65,
     "metadata": {},
     "output_type": "execute_result"
    }
   ],
   "source": [
    "multilabel_confusion_matrix(ytrue, yhat)"
   ]
  },
  {
   "cell_type": "code",
   "execution_count": 66,
   "metadata": {},
   "outputs": [
    {
     "data": {
      "text/plain": [
       "1.0"
      ]
     },
     "execution_count": 66,
     "metadata": {},
     "output_type": "execute_result"
    }
   ],
   "source": [
    "accuracy_score(ytrue, yhat)"
   ]
  },
  {
   "cell_type": "markdown",
   "metadata": {},
   "source": [
    "# 11. Test in Real Time"
   ]
  },
  {
   "cell_type": "code",
   "execution_count": 67,
   "metadata": {},
   "outputs": [],
   "source": [
    " from tensorflow.keras.models import load_model"
   ]
  },
  {
   "cell_type": "code",
   "execution_count": 15,
   "metadata": {},
   "outputs": [],
   "source": [
    " best_model = load_model('C:\\\\Users\\\\Dell G5 15\\\\Sign-Language-Recognition\\\\action.h5')"
   ]
  },
  {
   "cell_type": "code",
   "execution_count": 16,
   "metadata": {},
   "outputs": [],
   "source": [
    " best_model.model = load_model('C:\\\\Users\\\\Dell G5 15\\\\Sign-Language-Recognition\\\\action.h5')"
   ]
  },
  {
   "cell_type": "code",
   "execution_count": 17,
   "metadata": {},
   "outputs": [],
   "source": [
    " actions = ['stop', 'like', 'dislike']"
   ]
  },
  {
   "cell_type": "code",
   "execution_count": 68,
   "metadata": {},
   "outputs": [],
   "source": [
    "colors = [(245,117,16), (117,245,16), (16,117,245)]\n",
    "\n",
    "def prob_viz(res, actions, input_frame, colors):\n",
    "    output_frame = input_frame.copy()\n",
    "    \n",
    "    # Check if res is a single probability value\n",
    "    if not isinstance(res, np.ndarray):\n",
    "        res = np.array([res])  # Convert single value to array\n",
    "    \n",
    "    for num, prob in enumerate(res):\n",
    "        # Check if num is within the range of colors\n",
    "        if num < len(colors):\n",
    "            cv2.rectangle(output_frame, (0,60+num*40), (int(prob*100), 90+num*40), colors[num], -1)\n",
    "            cv2.putText(output_frame, actions[num], (0, 85+num*40), cv2.FONT_HERSHEY_SIMPLEX, 1, (255,255,255), 2, cv2.LINE_AA)\n",
    "        else:\n",
    "            print(\"Warning: Not enough colors provided for visualization.\")\n",
    "            break\n",
    "\n",
    "    return output_frame"
   ]
  },
  {
   "cell_type": "code",
   "execution_count": 69,
   "metadata": {},
   "outputs": [
    {
     "name": "stdout",
     "output_type": "stream",
     "text": [
      "<class 'int'>\n"
     ]
    }
   ],
   "source": [
    "print(type(sequence))"
   ]
  },
  {
   "cell_type": "code",
   "execution_count": 71,
   "metadata": {},
   "outputs": [
    {
     "name": "stdout",
     "output_type": "stream",
     "text": [
      "<class 'mediapipe.python.solution_base.SolutionOutputs'>\n",
      "<class 'mediapipe.python.solution_base.SolutionOutputs'>\n",
      "<class 'mediapipe.python.solution_base.SolutionOutputs'>\n",
      "<class 'mediapipe.python.solution_base.SolutionOutputs'>\n",
      "<class 'mediapipe.python.solution_base.SolutionOutputs'>\n",
      "<class 'mediapipe.python.solution_base.SolutionOutputs'>\n",
      "<class 'mediapipe.python.solution_base.SolutionOutputs'>\n",
      "<class 'mediapipe.python.solution_base.SolutionOutputs'>\n",
      "<class 'mediapipe.python.solution_base.SolutionOutputs'>\n",
      "<class 'mediapipe.python.solution_base.SolutionOutputs'>\n",
      "<class 'mediapipe.python.solution_base.SolutionOutputs'>\n",
      "<class 'mediapipe.python.solution_base.SolutionOutputs'>\n",
      "<class 'mediapipe.python.solution_base.SolutionOutputs'>\n",
      "<class 'mediapipe.python.solution_base.SolutionOutputs'>\n",
      "<class 'mediapipe.python.solution_base.SolutionOutputs'>\n",
      "<class 'mediapipe.python.solution_base.SolutionOutputs'>\n",
      "<class 'mediapipe.python.solution_base.SolutionOutputs'>\n",
      "<class 'mediapipe.python.solution_base.SolutionOutputs'>\n",
      "<class 'mediapipe.python.solution_base.SolutionOutputs'>\n",
      "<class 'mediapipe.python.solution_base.SolutionOutputs'>\n",
      "<class 'mediapipe.python.solution_base.SolutionOutputs'>\n",
      "<class 'mediapipe.python.solution_base.SolutionOutputs'>\n",
      "<class 'mediapipe.python.solution_base.SolutionOutputs'>\n",
      "<class 'mediapipe.python.solution_base.SolutionOutputs'>\n",
      "<class 'mediapipe.python.solution_base.SolutionOutputs'>\n",
      "<class 'mediapipe.python.solution_base.SolutionOutputs'>\n",
      "<class 'mediapipe.python.solution_base.SolutionOutputs'>\n",
      "<class 'mediapipe.python.solution_base.SolutionOutputs'>\n",
      "<class 'mediapipe.python.solution_base.SolutionOutputs'>\n",
      "<class 'mediapipe.python.solution_base.SolutionOutputs'>\n",
      "like\n",
      "<class 'mediapipe.python.solution_base.SolutionOutputs'>\n",
      "like\n",
      "<class 'mediapipe.python.solution_base.SolutionOutputs'>\n",
      "like\n",
      "<class 'mediapipe.python.solution_base.SolutionOutputs'>\n",
      "like\n",
      "<class 'mediapipe.python.solution_base.SolutionOutputs'>\n",
      "like\n",
      "<class 'mediapipe.python.solution_base.SolutionOutputs'>\n",
      "like\n",
      "<class 'mediapipe.python.solution_base.SolutionOutputs'>\n",
      "like\n",
      "<class 'mediapipe.python.solution_base.SolutionOutputs'>\n",
      "like\n",
      "<class 'mediapipe.python.solution_base.SolutionOutputs'>\n",
      "like\n",
      "<class 'mediapipe.python.solution_base.SolutionOutputs'>\n",
      "like\n",
      "<class 'mediapipe.python.solution_base.SolutionOutputs'>\n",
      "like\n",
      "<class 'mediapipe.python.solution_base.SolutionOutputs'>\n",
      "like\n",
      "<class 'mediapipe.python.solution_base.SolutionOutputs'>\n",
      "like\n",
      "<class 'mediapipe.python.solution_base.SolutionOutputs'>\n",
      "like\n",
      "<class 'mediapipe.python.solution_base.SolutionOutputs'>\n",
      "like\n",
      "<class 'mediapipe.python.solution_base.SolutionOutputs'>\n",
      "like\n",
      "<class 'mediapipe.python.solution_base.SolutionOutputs'>\n",
      "like\n",
      "<class 'mediapipe.python.solution_base.SolutionOutputs'>\n",
      "like\n",
      "<class 'mediapipe.python.solution_base.SolutionOutputs'>\n",
      "like\n",
      "<class 'mediapipe.python.solution_base.SolutionOutputs'>\n",
      "like\n",
      "<class 'mediapipe.python.solution_base.SolutionOutputs'>\n",
      "like\n",
      "<class 'mediapipe.python.solution_base.SolutionOutputs'>\n",
      "like\n",
      "<class 'mediapipe.python.solution_base.SolutionOutputs'>\n",
      "like\n",
      "<class 'mediapipe.python.solution_base.SolutionOutputs'>\n",
      "like\n",
      "<class 'mediapipe.python.solution_base.SolutionOutputs'>\n",
      "like\n",
      "<class 'mediapipe.python.solution_base.SolutionOutputs'>\n",
      "like\n",
      "<class 'mediapipe.python.solution_base.SolutionOutputs'>\n",
      "like\n",
      "<class 'mediapipe.python.solution_base.SolutionOutputs'>\n",
      "like\n",
      "<class 'mediapipe.python.solution_base.SolutionOutputs'>\n",
      "like\n",
      "<class 'mediapipe.python.solution_base.SolutionOutputs'>\n",
      "like\n",
      "<class 'mediapipe.python.solution_base.SolutionOutputs'>\n",
      "like\n",
      "<class 'mediapipe.python.solution_base.SolutionOutputs'>\n",
      "like\n",
      "<class 'mediapipe.python.solution_base.SolutionOutputs'>\n",
      "like\n",
      "<class 'mediapipe.python.solution_base.SolutionOutputs'>\n",
      "like\n",
      "<class 'mediapipe.python.solution_base.SolutionOutputs'>\n",
      "like\n",
      "<class 'mediapipe.python.solution_base.SolutionOutputs'>\n",
      "like\n",
      "<class 'mediapipe.python.solution_base.SolutionOutputs'>\n",
      "like\n",
      "<class 'mediapipe.python.solution_base.SolutionOutputs'>\n",
      "like\n",
      "<class 'mediapipe.python.solution_base.SolutionOutputs'>\n",
      "like\n",
      "<class 'mediapipe.python.solution_base.SolutionOutputs'>\n",
      "like\n",
      "<class 'mediapipe.python.solution_base.SolutionOutputs'>\n",
      "like\n",
      "<class 'mediapipe.python.solution_base.SolutionOutputs'>\n",
      "stop\n",
      "<class 'mediapipe.python.solution_base.SolutionOutputs'>\n",
      "stop\n",
      "<class 'mediapipe.python.solution_base.SolutionOutputs'>\n",
      "stop\n",
      "<class 'mediapipe.python.solution_base.SolutionOutputs'>\n",
      "stop\n",
      "<class 'mediapipe.python.solution_base.SolutionOutputs'>\n",
      "stop\n",
      "<class 'mediapipe.python.solution_base.SolutionOutputs'>\n",
      "stop\n",
      "<class 'mediapipe.python.solution_base.SolutionOutputs'>\n",
      "stop\n",
      "<class 'mediapipe.python.solution_base.SolutionOutputs'>\n",
      "stop\n",
      "<class 'mediapipe.python.solution_base.SolutionOutputs'>\n",
      "dislike\n",
      "<class 'mediapipe.python.solution_base.SolutionOutputs'>\n",
      "dislike\n",
      "<class 'mediapipe.python.solution_base.SolutionOutputs'>\n",
      "dislike\n",
      "<class 'mediapipe.python.solution_base.SolutionOutputs'>\n",
      "dislike\n",
      "<class 'mediapipe.python.solution_base.SolutionOutputs'>\n",
      "dislike\n",
      "<class 'mediapipe.python.solution_base.SolutionOutputs'>\n",
      "dislike\n",
      "<class 'mediapipe.python.solution_base.SolutionOutputs'>\n",
      "dislike\n",
      "<class 'mediapipe.python.solution_base.SolutionOutputs'>\n",
      "dislike\n",
      "<class 'mediapipe.python.solution_base.SolutionOutputs'>\n",
      "dislike\n",
      "<class 'mediapipe.python.solution_base.SolutionOutputs'>\n",
      "dislike\n",
      "<class 'mediapipe.python.solution_base.SolutionOutputs'>\n",
      "dislike\n",
      "<class 'mediapipe.python.solution_base.SolutionOutputs'>\n",
      "dislike\n",
      "<class 'mediapipe.python.solution_base.SolutionOutputs'>\n",
      "dislike\n",
      "<class 'mediapipe.python.solution_base.SolutionOutputs'>\n",
      "dislike\n",
      "<class 'mediapipe.python.solution_base.SolutionOutputs'>\n",
      "dislike\n",
      "<class 'mediapipe.python.solution_base.SolutionOutputs'>\n",
      "dislike\n",
      "<class 'mediapipe.python.solution_base.SolutionOutputs'>\n",
      "dislike\n",
      "<class 'mediapipe.python.solution_base.SolutionOutputs'>\n",
      "dislike\n",
      "<class 'mediapipe.python.solution_base.SolutionOutputs'>\n",
      "dislike\n",
      "<class 'mediapipe.python.solution_base.SolutionOutputs'>\n",
      "dislike\n",
      "<class 'mediapipe.python.solution_base.SolutionOutputs'>\n",
      "dislike\n",
      "<class 'mediapipe.python.solution_base.SolutionOutputs'>\n",
      "dislike\n",
      "<class 'mediapipe.python.solution_base.SolutionOutputs'>\n",
      "dislike\n",
      "<class 'mediapipe.python.solution_base.SolutionOutputs'>\n",
      "dislike\n",
      "<class 'mediapipe.python.solution_base.SolutionOutputs'>\n",
      "dislike\n",
      "<class 'mediapipe.python.solution_base.SolutionOutputs'>\n",
      "dislike\n",
      "<class 'mediapipe.python.solution_base.SolutionOutputs'>\n",
      "dislike\n",
      "<class 'mediapipe.python.solution_base.SolutionOutputs'>\n",
      "dislike\n",
      "<class 'mediapipe.python.solution_base.SolutionOutputs'>\n",
      "dislike\n",
      "<class 'mediapipe.python.solution_base.SolutionOutputs'>\n",
      "dislike\n",
      "<class 'mediapipe.python.solution_base.SolutionOutputs'>\n",
      "dislike\n",
      "<class 'mediapipe.python.solution_base.SolutionOutputs'>\n",
      "dislike\n",
      "<class 'mediapipe.python.solution_base.SolutionOutputs'>\n",
      "dislike\n",
      "<class 'mediapipe.python.solution_base.SolutionOutputs'>\n",
      "dislike\n",
      "<class 'mediapipe.python.solution_base.SolutionOutputs'>\n",
      "dislike\n",
      "<class 'mediapipe.python.solution_base.SolutionOutputs'>\n",
      "dislike\n",
      "<class 'mediapipe.python.solution_base.SolutionOutputs'>\n",
      "dislike\n",
      "<class 'mediapipe.python.solution_base.SolutionOutputs'>\n",
      "dislike\n",
      "<class 'mediapipe.python.solution_base.SolutionOutputs'>\n",
      "dislike\n",
      "<class 'mediapipe.python.solution_base.SolutionOutputs'>\n",
      "dislike\n",
      "<class 'mediapipe.python.solution_base.SolutionOutputs'>\n",
      "stop\n",
      "<class 'mediapipe.python.solution_base.SolutionOutputs'>\n",
      "stop\n",
      "<class 'mediapipe.python.solution_base.SolutionOutputs'>\n",
      "stop\n",
      "<class 'mediapipe.python.solution_base.SolutionOutputs'>\n",
      "stop\n",
      "<class 'mediapipe.python.solution_base.SolutionOutputs'>\n",
      "stop\n",
      "<class 'mediapipe.python.solution_base.SolutionOutputs'>\n",
      "stop\n",
      "<class 'mediapipe.python.solution_base.SolutionOutputs'>\n",
      "stop\n",
      "<class 'mediapipe.python.solution_base.SolutionOutputs'>\n",
      "stop\n",
      "<class 'mediapipe.python.solution_base.SolutionOutputs'>\n",
      "stop\n",
      "<class 'mediapipe.python.solution_base.SolutionOutputs'>\n",
      "stop\n",
      "<class 'mediapipe.python.solution_base.SolutionOutputs'>\n",
      "stop\n",
      "<class 'mediapipe.python.solution_base.SolutionOutputs'>\n",
      "stop\n",
      "<class 'mediapipe.python.solution_base.SolutionOutputs'>\n",
      "stop\n",
      "<class 'mediapipe.python.solution_base.SolutionOutputs'>\n",
      "stop\n",
      "<class 'mediapipe.python.solution_base.SolutionOutputs'>\n",
      "stop\n",
      "<class 'mediapipe.python.solution_base.SolutionOutputs'>\n",
      "stop\n",
      "<class 'mediapipe.python.solution_base.SolutionOutputs'>\n",
      "stop\n",
      "<class 'mediapipe.python.solution_base.SolutionOutputs'>\n",
      "stop\n",
      "<class 'mediapipe.python.solution_base.SolutionOutputs'>\n",
      "stop\n",
      "<class 'mediapipe.python.solution_base.SolutionOutputs'>\n",
      "stop\n",
      "<class 'mediapipe.python.solution_base.SolutionOutputs'>\n",
      "stop\n",
      "<class 'mediapipe.python.solution_base.SolutionOutputs'>\n",
      "stop\n",
      "<class 'mediapipe.python.solution_base.SolutionOutputs'>\n",
      "stop\n",
      "<class 'mediapipe.python.solution_base.SolutionOutputs'>\n",
      "stop\n",
      "<class 'mediapipe.python.solution_base.SolutionOutputs'>\n",
      "stop\n",
      "<class 'mediapipe.python.solution_base.SolutionOutputs'>\n",
      "stop\n",
      "<class 'mediapipe.python.solution_base.SolutionOutputs'>\n",
      "stop\n",
      "<class 'mediapipe.python.solution_base.SolutionOutputs'>\n",
      "stop\n",
      "<class 'mediapipe.python.solution_base.SolutionOutputs'>\n",
      "stop\n",
      "<class 'mediapipe.python.solution_base.SolutionOutputs'>\n",
      "stop\n",
      "<class 'mediapipe.python.solution_base.SolutionOutputs'>\n",
      "stop\n",
      "<class 'mediapipe.python.solution_base.SolutionOutputs'>\n",
      "stop\n",
      "<class 'mediapipe.python.solution_base.SolutionOutputs'>\n",
      "like\n",
      "<class 'mediapipe.python.solution_base.SolutionOutputs'>\n",
      "like\n",
      "<class 'mediapipe.python.solution_base.SolutionOutputs'>\n",
      "like\n",
      "<class 'mediapipe.python.solution_base.SolutionOutputs'>\n",
      "like\n",
      "<class 'mediapipe.python.solution_base.SolutionOutputs'>\n",
      "like\n",
      "<class 'mediapipe.python.solution_base.SolutionOutputs'>\n",
      "like\n",
      "<class 'mediapipe.python.solution_base.SolutionOutputs'>\n",
      "like\n",
      "<class 'mediapipe.python.solution_base.SolutionOutputs'>\n",
      "like\n",
      "<class 'mediapipe.python.solution_base.SolutionOutputs'>\n",
      "like\n",
      "<class 'mediapipe.python.solution_base.SolutionOutputs'>\n",
      "like\n",
      "<class 'mediapipe.python.solution_base.SolutionOutputs'>\n",
      "like\n",
      "<class 'mediapipe.python.solution_base.SolutionOutputs'>\n",
      "like\n",
      "<class 'mediapipe.python.solution_base.SolutionOutputs'>\n",
      "like\n",
      "<class 'mediapipe.python.solution_base.SolutionOutputs'>\n",
      "like\n",
      "<class 'mediapipe.python.solution_base.SolutionOutputs'>\n",
      "like\n",
      "<class 'mediapipe.python.solution_base.SolutionOutputs'>\n",
      "like\n",
      "<class 'mediapipe.python.solution_base.SolutionOutputs'>\n",
      "like\n",
      "<class 'mediapipe.python.solution_base.SolutionOutputs'>\n",
      "like\n",
      "<class 'mediapipe.python.solution_base.SolutionOutputs'>\n",
      "like\n",
      "<class 'mediapipe.python.solution_base.SolutionOutputs'>\n",
      "like\n",
      "<class 'mediapipe.python.solution_base.SolutionOutputs'>\n",
      "like\n",
      "<class 'mediapipe.python.solution_base.SolutionOutputs'>\n",
      "like\n",
      "<class 'mediapipe.python.solution_base.SolutionOutputs'>\n",
      "like\n",
      "<class 'mediapipe.python.solution_base.SolutionOutputs'>\n",
      "like\n",
      "<class 'mediapipe.python.solution_base.SolutionOutputs'>\n",
      "like\n",
      "<class 'mediapipe.python.solution_base.SolutionOutputs'>\n",
      "like\n",
      "<class 'mediapipe.python.solution_base.SolutionOutputs'>\n",
      "like\n",
      "<class 'mediapipe.python.solution_base.SolutionOutputs'>\n",
      "like\n",
      "<class 'mediapipe.python.solution_base.SolutionOutputs'>\n",
      "like\n",
      "<class 'mediapipe.python.solution_base.SolutionOutputs'>\n",
      "like\n",
      "<class 'mediapipe.python.solution_base.SolutionOutputs'>\n",
      "like\n",
      "<class 'mediapipe.python.solution_base.SolutionOutputs'>\n",
      "like\n",
      "<class 'mediapipe.python.solution_base.SolutionOutputs'>\n",
      "like\n",
      "<class 'mediapipe.python.solution_base.SolutionOutputs'>\n",
      "like\n",
      "<class 'mediapipe.python.solution_base.SolutionOutputs'>\n",
      "like\n",
      "<class 'mediapipe.python.solution_base.SolutionOutputs'>\n",
      "like\n",
      "<class 'mediapipe.python.solution_base.SolutionOutputs'>\n",
      "like\n",
      "<class 'mediapipe.python.solution_base.SolutionOutputs'>\n",
      "like\n",
      "<class 'mediapipe.python.solution_base.SolutionOutputs'>\n",
      "like\n",
      "<class 'mediapipe.python.solution_base.SolutionOutputs'>\n",
      "like\n",
      "<class 'mediapipe.python.solution_base.SolutionOutputs'>\n",
      "like\n",
      "<class 'mediapipe.python.solution_base.SolutionOutputs'>\n",
      "like\n",
      "<class 'mediapipe.python.solution_base.SolutionOutputs'>\n",
      "like\n",
      "<class 'mediapipe.python.solution_base.SolutionOutputs'>\n",
      "like\n",
      "<class 'mediapipe.python.solution_base.SolutionOutputs'>\n",
      "like\n",
      "<class 'mediapipe.python.solution_base.SolutionOutputs'>\n",
      "like\n",
      "<class 'mediapipe.python.solution_base.SolutionOutputs'>\n",
      "like\n",
      "<class 'mediapipe.python.solution_base.SolutionOutputs'>\n",
      "like\n",
      "<class 'mediapipe.python.solution_base.SolutionOutputs'>\n",
      "like\n",
      "<class 'mediapipe.python.solution_base.SolutionOutputs'>\n",
      "like\n",
      "<class 'mediapipe.python.solution_base.SolutionOutputs'>\n",
      "like\n",
      "<class 'mediapipe.python.solution_base.SolutionOutputs'>\n",
      "like\n",
      "<class 'mediapipe.python.solution_base.SolutionOutputs'>\n",
      "like\n",
      "<class 'mediapipe.python.solution_base.SolutionOutputs'>\n",
      "like\n",
      "<class 'mediapipe.python.solution_base.SolutionOutputs'>\n",
      "like\n",
      "<class 'mediapipe.python.solution_base.SolutionOutputs'>\n",
      "like\n",
      "<class 'mediapipe.python.solution_base.SolutionOutputs'>\n",
      "like\n",
      "<class 'mediapipe.python.solution_base.SolutionOutputs'>\n",
      "like\n",
      "<class 'mediapipe.python.solution_base.SolutionOutputs'>\n",
      "like\n",
      "<class 'mediapipe.python.solution_base.SolutionOutputs'>\n",
      "like\n",
      "<class 'mediapipe.python.solution_base.SolutionOutputs'>\n",
      "like\n",
      "<class 'mediapipe.python.solution_base.SolutionOutputs'>\n",
      "like\n",
      "<class 'mediapipe.python.solution_base.SolutionOutputs'>\n",
      "like\n",
      "<class 'mediapipe.python.solution_base.SolutionOutputs'>\n",
      "like\n",
      "<class 'mediapipe.python.solution_base.SolutionOutputs'>\n",
      "like\n",
      "<class 'mediapipe.python.solution_base.SolutionOutputs'>\n",
      "like\n",
      "<class 'mediapipe.python.solution_base.SolutionOutputs'>\n",
      "like\n",
      "<class 'mediapipe.python.solution_base.SolutionOutputs'>\n",
      "like\n",
      "<class 'mediapipe.python.solution_base.SolutionOutputs'>\n",
      "like\n",
      "<class 'mediapipe.python.solution_base.SolutionOutputs'>\n",
      "like\n",
      "<class 'mediapipe.python.solution_base.SolutionOutputs'>\n",
      "like\n",
      "<class 'mediapipe.python.solution_base.SolutionOutputs'>\n",
      "like\n",
      "<class 'mediapipe.python.solution_base.SolutionOutputs'>\n",
      "like\n",
      "<class 'mediapipe.python.solution_base.SolutionOutputs'>\n",
      "like\n",
      "<class 'mediapipe.python.solution_base.SolutionOutputs'>\n",
      "like\n",
      "<class 'mediapipe.python.solution_base.SolutionOutputs'>\n",
      "like\n",
      "<class 'mediapipe.python.solution_base.SolutionOutputs'>\n",
      "like\n",
      "<class 'mediapipe.python.solution_base.SolutionOutputs'>\n",
      "like\n",
      "<class 'mediapipe.python.solution_base.SolutionOutputs'>\n",
      "like\n",
      "<class 'mediapipe.python.solution_base.SolutionOutputs'>\n",
      "like\n",
      "<class 'mediapipe.python.solution_base.SolutionOutputs'>\n",
      "like\n",
      "<class 'mediapipe.python.solution_base.SolutionOutputs'>\n",
      "like\n",
      "<class 'mediapipe.python.solution_base.SolutionOutputs'>\n",
      "like\n",
      "<class 'mediapipe.python.solution_base.SolutionOutputs'>\n",
      "like\n",
      "<class 'mediapipe.python.solution_base.SolutionOutputs'>\n",
      "like\n",
      "<class 'mediapipe.python.solution_base.SolutionOutputs'>\n",
      "like\n",
      "<class 'mediapipe.python.solution_base.SolutionOutputs'>\n",
      "like\n",
      "<class 'mediapipe.python.solution_base.SolutionOutputs'>\n",
      "like\n",
      "<class 'mediapipe.python.solution_base.SolutionOutputs'>\n",
      "like\n",
      "<class 'mediapipe.python.solution_base.SolutionOutputs'>\n",
      "like\n",
      "<class 'mediapipe.python.solution_base.SolutionOutputs'>\n",
      "like\n",
      "<class 'mediapipe.python.solution_base.SolutionOutputs'>\n",
      "like\n",
      "<class 'mediapipe.python.solution_base.SolutionOutputs'>\n",
      "stop\n",
      "<class 'mediapipe.python.solution_base.SolutionOutputs'>\n",
      "stop\n",
      "<class 'mediapipe.python.solution_base.SolutionOutputs'>\n",
      "stop\n",
      "<class 'mediapipe.python.solution_base.SolutionOutputs'>\n",
      "stop\n",
      "<class 'mediapipe.python.solution_base.SolutionOutputs'>\n",
      "stop\n",
      "<class 'mediapipe.python.solution_base.SolutionOutputs'>\n",
      "stop\n",
      "<class 'mediapipe.python.solution_base.SolutionOutputs'>\n",
      "stop\n",
      "<class 'mediapipe.python.solution_base.SolutionOutputs'>\n",
      "stop\n",
      "<class 'mediapipe.python.solution_base.SolutionOutputs'>\n",
      "stop\n",
      "<class 'mediapipe.python.solution_base.SolutionOutputs'>\n",
      "stop\n",
      "<class 'mediapipe.python.solution_base.SolutionOutputs'>\n",
      "stop\n",
      "<class 'mediapipe.python.solution_base.SolutionOutputs'>\n",
      "stop\n",
      "<class 'mediapipe.python.solution_base.SolutionOutputs'>\n",
      "stop\n",
      "<class 'mediapipe.python.solution_base.SolutionOutputs'>\n",
      "stop\n",
      "<class 'mediapipe.python.solution_base.SolutionOutputs'>\n",
      "stop\n",
      "<class 'mediapipe.python.solution_base.SolutionOutputs'>\n",
      "stop\n",
      "<class 'mediapipe.python.solution_base.SolutionOutputs'>\n",
      "stop\n",
      "<class 'mediapipe.python.solution_base.SolutionOutputs'>\n",
      "stop\n",
      "<class 'mediapipe.python.solution_base.SolutionOutputs'>\n",
      "stop\n",
      "<class 'mediapipe.python.solution_base.SolutionOutputs'>\n",
      "stop\n",
      "<class 'mediapipe.python.solution_base.SolutionOutputs'>\n",
      "stop\n",
      "<class 'mediapipe.python.solution_base.SolutionOutputs'>\n",
      "stop\n",
      "<class 'mediapipe.python.solution_base.SolutionOutputs'>\n",
      "stop\n",
      "<class 'mediapipe.python.solution_base.SolutionOutputs'>\n",
      "stop\n",
      "<class 'mediapipe.python.solution_base.SolutionOutputs'>\n",
      "stop\n",
      "<class 'mediapipe.python.solution_base.SolutionOutputs'>\n",
      "stop\n",
      "<class 'mediapipe.python.solution_base.SolutionOutputs'>\n",
      "stop\n",
      "<class 'mediapipe.python.solution_base.SolutionOutputs'>\n",
      "stop\n",
      "<class 'mediapipe.python.solution_base.SolutionOutputs'>\n",
      "stop\n",
      "<class 'mediapipe.python.solution_base.SolutionOutputs'>\n",
      "stop\n",
      "<class 'mediapipe.python.solution_base.SolutionOutputs'>\n",
      "stop\n",
      "<class 'mediapipe.python.solution_base.SolutionOutputs'>\n",
      "stop\n",
      "<class 'mediapipe.python.solution_base.SolutionOutputs'>\n",
      "stop\n",
      "<class 'mediapipe.python.solution_base.SolutionOutputs'>\n",
      "stop\n",
      "<class 'mediapipe.python.solution_base.SolutionOutputs'>\n",
      "stop\n",
      "<class 'mediapipe.python.solution_base.SolutionOutputs'>\n",
      "stop\n",
      "<class 'mediapipe.python.solution_base.SolutionOutputs'>\n",
      "like\n",
      "<class 'mediapipe.python.solution_base.SolutionOutputs'>\n",
      "like\n",
      "<class 'mediapipe.python.solution_base.SolutionOutputs'>\n",
      "like\n",
      "<class 'mediapipe.python.solution_base.SolutionOutputs'>\n",
      "dislike\n",
      "<class 'mediapipe.python.solution_base.SolutionOutputs'>\n",
      "dislike\n",
      "<class 'mediapipe.python.solution_base.SolutionOutputs'>\n",
      "dislike\n",
      "<class 'mediapipe.python.solution_base.SolutionOutputs'>\n",
      "dislike\n",
      "<class 'mediapipe.python.solution_base.SolutionOutputs'>\n",
      "dislike\n",
      "<class 'mediapipe.python.solution_base.SolutionOutputs'>\n",
      "dislike\n",
      "<class 'mediapipe.python.solution_base.SolutionOutputs'>\n",
      "dislike\n",
      "<class 'mediapipe.python.solution_base.SolutionOutputs'>\n",
      "dislike\n",
      "<class 'mediapipe.python.solution_base.SolutionOutputs'>\n",
      "dislike\n",
      "<class 'mediapipe.python.solution_base.SolutionOutputs'>\n",
      "dislike\n",
      "<class 'mediapipe.python.solution_base.SolutionOutputs'>\n",
      "dislike\n",
      "<class 'mediapipe.python.solution_base.SolutionOutputs'>\n",
      "dislike\n",
      "<class 'mediapipe.python.solution_base.SolutionOutputs'>\n",
      "dislike\n",
      "<class 'mediapipe.python.solution_base.SolutionOutputs'>\n",
      "dislike\n",
      "<class 'mediapipe.python.solution_base.SolutionOutputs'>\n",
      "dislike\n",
      "<class 'mediapipe.python.solution_base.SolutionOutputs'>\n",
      "dislike\n",
      "<class 'mediapipe.python.solution_base.SolutionOutputs'>\n",
      "dislike\n",
      "<class 'mediapipe.python.solution_base.SolutionOutputs'>\n",
      "dislike\n",
      "<class 'mediapipe.python.solution_base.SolutionOutputs'>\n",
      "dislike\n",
      "<class 'mediapipe.python.solution_base.SolutionOutputs'>\n",
      "dislike\n",
      "<class 'mediapipe.python.solution_base.SolutionOutputs'>\n",
      "dislike\n",
      "<class 'mediapipe.python.solution_base.SolutionOutputs'>\n",
      "dislike\n",
      "<class 'mediapipe.python.solution_base.SolutionOutputs'>\n",
      "dislike\n",
      "<class 'mediapipe.python.solution_base.SolutionOutputs'>\n",
      "dislike\n",
      "<class 'mediapipe.python.solution_base.SolutionOutputs'>\n",
      "dislike\n",
      "<class 'mediapipe.python.solution_base.SolutionOutputs'>\n",
      "dislike\n",
      "<class 'mediapipe.python.solution_base.SolutionOutputs'>\n",
      "dislike\n",
      "<class 'mediapipe.python.solution_base.SolutionOutputs'>\n",
      "dislike\n",
      "<class 'mediapipe.python.solution_base.SolutionOutputs'>\n",
      "dislike\n",
      "<class 'mediapipe.python.solution_base.SolutionOutputs'>\n",
      "dislike\n",
      "<class 'mediapipe.python.solution_base.SolutionOutputs'>\n",
      "dislike\n",
      "<class 'mediapipe.python.solution_base.SolutionOutputs'>\n",
      "dislike\n",
      "<class 'mediapipe.python.solution_base.SolutionOutputs'>\n",
      "dislike\n",
      "<class 'mediapipe.python.solution_base.SolutionOutputs'>\n",
      "dislike\n",
      "<class 'mediapipe.python.solution_base.SolutionOutputs'>\n",
      "dislike\n",
      "<class 'mediapipe.python.solution_base.SolutionOutputs'>\n",
      "dislike\n",
      "<class 'mediapipe.python.solution_base.SolutionOutputs'>\n",
      "dislike\n",
      "<class 'mediapipe.python.solution_base.SolutionOutputs'>\n",
      "like\n",
      "<class 'mediapipe.python.solution_base.SolutionOutputs'>\n",
      "like\n",
      "<class 'mediapipe.python.solution_base.SolutionOutputs'>\n",
      "like\n",
      "<class 'mediapipe.python.solution_base.SolutionOutputs'>\n",
      "like\n",
      "<class 'mediapipe.python.solution_base.SolutionOutputs'>\n",
      "like\n",
      "<class 'mediapipe.python.solution_base.SolutionOutputs'>\n",
      "like\n",
      "<class 'mediapipe.python.solution_base.SolutionOutputs'>\n",
      "like\n",
      "<class 'mediapipe.python.solution_base.SolutionOutputs'>\n",
      "like\n",
      "<class 'mediapipe.python.solution_base.SolutionOutputs'>\n",
      "like\n",
      "<class 'mediapipe.python.solution_base.SolutionOutputs'>\n",
      "like\n",
      "<class 'mediapipe.python.solution_base.SolutionOutputs'>\n",
      "like\n",
      "<class 'mediapipe.python.solution_base.SolutionOutputs'>\n",
      "like\n",
      "<class 'mediapipe.python.solution_base.SolutionOutputs'>\n",
      "like\n",
      "<class 'mediapipe.python.solution_base.SolutionOutputs'>\n",
      "like\n",
      "<class 'mediapipe.python.solution_base.SolutionOutputs'>\n",
      "like\n",
      "<class 'mediapipe.python.solution_base.SolutionOutputs'>\n",
      "like\n",
      "<class 'mediapipe.python.solution_base.SolutionOutputs'>\n",
      "like\n",
      "<class 'mediapipe.python.solution_base.SolutionOutputs'>\n",
      "like\n",
      "<class 'mediapipe.python.solution_base.SolutionOutputs'>\n",
      "like\n",
      "<class 'mediapipe.python.solution_base.SolutionOutputs'>\n",
      "like\n",
      "<class 'mediapipe.python.solution_base.SolutionOutputs'>\n",
      "like\n",
      "<class 'mediapipe.python.solution_base.SolutionOutputs'>\n",
      "like\n",
      "<class 'mediapipe.python.solution_base.SolutionOutputs'>\n",
      "like\n",
      "<class 'mediapipe.python.solution_base.SolutionOutputs'>\n",
      "like\n",
      "<class 'mediapipe.python.solution_base.SolutionOutputs'>\n",
      "like\n",
      "<class 'mediapipe.python.solution_base.SolutionOutputs'>\n",
      "like\n",
      "<class 'mediapipe.python.solution_base.SolutionOutputs'>\n",
      "like\n",
      "<class 'mediapipe.python.solution_base.SolutionOutputs'>\n",
      "like\n",
      "<class 'mediapipe.python.solution_base.SolutionOutputs'>\n",
      "like\n",
      "<class 'mediapipe.python.solution_base.SolutionOutputs'>\n",
      "like\n",
      "<class 'mediapipe.python.solution_base.SolutionOutputs'>\n",
      "like\n",
      "<class 'mediapipe.python.solution_base.SolutionOutputs'>\n",
      "like\n",
      "<class 'mediapipe.python.solution_base.SolutionOutputs'>\n",
      "like\n",
      "<class 'mediapipe.python.solution_base.SolutionOutputs'>\n",
      "like\n",
      "<class 'mediapipe.python.solution_base.SolutionOutputs'>\n",
      "like\n",
      "<class 'mediapipe.python.solution_base.SolutionOutputs'>\n",
      "like\n",
      "<class 'mediapipe.python.solution_base.SolutionOutputs'>\n",
      "like\n",
      "<class 'mediapipe.python.solution_base.SolutionOutputs'>\n",
      "like\n",
      "<class 'mediapipe.python.solution_base.SolutionOutputs'>\n",
      "like\n",
      "<class 'mediapipe.python.solution_base.SolutionOutputs'>\n",
      "like\n",
      "<class 'mediapipe.python.solution_base.SolutionOutputs'>\n",
      "like\n",
      "<class 'mediapipe.python.solution_base.SolutionOutputs'>\n",
      "like\n",
      "<class 'mediapipe.python.solution_base.SolutionOutputs'>\n",
      "like\n",
      "<class 'mediapipe.python.solution_base.SolutionOutputs'>\n",
      "like\n",
      "<class 'mediapipe.python.solution_base.SolutionOutputs'>\n",
      "like\n",
      "<class 'mediapipe.python.solution_base.SolutionOutputs'>\n",
      "like\n",
      "<class 'mediapipe.python.solution_base.SolutionOutputs'>\n",
      "like\n",
      "<class 'mediapipe.python.solution_base.SolutionOutputs'>\n",
      "like\n",
      "<class 'mediapipe.python.solution_base.SolutionOutputs'>\n",
      "like\n",
      "<class 'mediapipe.python.solution_base.SolutionOutputs'>\n",
      "like\n",
      "<class 'mediapipe.python.solution_base.SolutionOutputs'>\n",
      "like\n",
      "<class 'mediapipe.python.solution_base.SolutionOutputs'>\n",
      "like\n",
      "<class 'mediapipe.python.solution_base.SolutionOutputs'>\n",
      "like\n",
      "<class 'mediapipe.python.solution_base.SolutionOutputs'>\n",
      "like\n",
      "<class 'mediapipe.python.solution_base.SolutionOutputs'>\n",
      "like\n",
      "<class 'mediapipe.python.solution_base.SolutionOutputs'>\n",
      "like\n",
      "<class 'mediapipe.python.solution_base.SolutionOutputs'>\n",
      "like\n",
      "<class 'mediapipe.python.solution_base.SolutionOutputs'>\n",
      "like\n",
      "<class 'mediapipe.python.solution_base.SolutionOutputs'>\n",
      "like\n",
      "<class 'mediapipe.python.solution_base.SolutionOutputs'>\n",
      "like\n",
      "<class 'mediapipe.python.solution_base.SolutionOutputs'>\n",
      "like\n",
      "<class 'mediapipe.python.solution_base.SolutionOutputs'>\n",
      "like\n",
      "<class 'mediapipe.python.solution_base.SolutionOutputs'>\n",
      "like\n",
      "<class 'mediapipe.python.solution_base.SolutionOutputs'>\n",
      "like\n",
      "<class 'mediapipe.python.solution_base.SolutionOutputs'>\n",
      "like\n",
      "<class 'mediapipe.python.solution_base.SolutionOutputs'>\n",
      "like\n",
      "<class 'mediapipe.python.solution_base.SolutionOutputs'>\n",
      "like\n",
      "<class 'mediapipe.python.solution_base.SolutionOutputs'>\n",
      "like\n",
      "<class 'mediapipe.python.solution_base.SolutionOutputs'>\n",
      "like\n",
      "<class 'mediapipe.python.solution_base.SolutionOutputs'>\n",
      "like\n",
      "<class 'mediapipe.python.solution_base.SolutionOutputs'>\n",
      "like\n",
      "<class 'mediapipe.python.solution_base.SolutionOutputs'>\n",
      "like\n",
      "<class 'mediapipe.python.solution_base.SolutionOutputs'>\n",
      "like\n",
      "<class 'mediapipe.python.solution_base.SolutionOutputs'>\n",
      "like\n",
      "<class 'mediapipe.python.solution_base.SolutionOutputs'>\n",
      "like\n",
      "<class 'mediapipe.python.solution_base.SolutionOutputs'>\n",
      "like\n",
      "<class 'mediapipe.python.solution_base.SolutionOutputs'>\n",
      "like\n",
      "<class 'mediapipe.python.solution_base.SolutionOutputs'>\n",
      "like\n",
      "<class 'mediapipe.python.solution_base.SolutionOutputs'>\n",
      "like\n",
      "<class 'mediapipe.python.solution_base.SolutionOutputs'>\n",
      "like\n",
      "<class 'mediapipe.python.solution_base.SolutionOutputs'>\n",
      "like\n",
      "<class 'mediapipe.python.solution_base.SolutionOutputs'>\n",
      "like\n",
      "<class 'mediapipe.python.solution_base.SolutionOutputs'>\n",
      "like\n",
      "<class 'mediapipe.python.solution_base.SolutionOutputs'>\n",
      "like\n",
      "<class 'mediapipe.python.solution_base.SolutionOutputs'>\n",
      "like\n",
      "<class 'mediapipe.python.solution_base.SolutionOutputs'>\n",
      "like\n",
      "<class 'mediapipe.python.solution_base.SolutionOutputs'>\n",
      "like\n",
      "<class 'mediapipe.python.solution_base.SolutionOutputs'>\n",
      "like\n",
      "<class 'mediapipe.python.solution_base.SolutionOutputs'>\n",
      "like\n",
      "<class 'mediapipe.python.solution_base.SolutionOutputs'>\n",
      "like\n",
      "<class 'mediapipe.python.solution_base.SolutionOutputs'>\n",
      "like\n",
      "<class 'mediapipe.python.solution_base.SolutionOutputs'>\n",
      "like\n",
      "<class 'mediapipe.python.solution_base.SolutionOutputs'>\n",
      "like\n",
      "<class 'mediapipe.python.solution_base.SolutionOutputs'>\n",
      "like\n",
      "<class 'mediapipe.python.solution_base.SolutionOutputs'>\n",
      "like\n",
      "<class 'mediapipe.python.solution_base.SolutionOutputs'>\n",
      "like\n",
      "<class 'mediapipe.python.solution_base.SolutionOutputs'>\n",
      "like\n",
      "<class 'mediapipe.python.solution_base.SolutionOutputs'>\n",
      "like\n",
      "<class 'mediapipe.python.solution_base.SolutionOutputs'>\n",
      "like\n",
      "<class 'mediapipe.python.solution_base.SolutionOutputs'>\n",
      "like\n",
      "<class 'mediapipe.python.solution_base.SolutionOutputs'>\n",
      "like\n",
      "<class 'mediapipe.python.solution_base.SolutionOutputs'>\n",
      "like\n",
      "<class 'mediapipe.python.solution_base.SolutionOutputs'>\n",
      "like\n",
      "<class 'mediapipe.python.solution_base.SolutionOutputs'>\n",
      "like\n",
      "<class 'mediapipe.python.solution_base.SolutionOutputs'>\n",
      "like\n"
     ]
    }
   ],
   "source": [
    "# 1. New detection variables\n",
    "sequence = []\n",
    "sentence = []\n",
    "threshold = 0.8\n",
    "\n",
    "cap = cv2.VideoCapture(0)\n",
    "# Set mediapipe model \n",
    "with mp_holistic.Holistic(min_detection_confidence=0.5, min_tracking_confidence=0.5) as holistic:\n",
    "    while cap.isOpened():\n",
    "\n",
    "        # Read feed\n",
    "        ret, frame = cap.read()\n",
    "\n",
    "        # Make detections\n",
    "        image, results = mediapipe_detection(frame, holistic)\n",
    "        print(results)\n",
    "        \n",
    "        # Draw landmarks\n",
    "        draw_styled_landmarks(image, results)\n",
    "        \n",
    "        # 2. Prediction logic\n",
    "        keypoints = extract_keypoints(results)\n",
    "\n",
    "        sequence.append(keypoints)\n",
    "        sequence = sequence[-30:]\n",
    "        \n",
    "        if len(sequence) == 30:\n",
    "            res = best_model.model.predict(np.expand_dims(sequence, axis=0))[0]\n",
    "            print(actions[np.argmax(res)])\n",
    "            \n",
    "            \n",
    "        #3. Viz logic\n",
    "            if res[np.argmax(res)] > threshold: \n",
    "                if len(sentence) > 0: \n",
    "                    if actions[np.argmax(res)] != sentence[-1]:\n",
    "                        sentence.append(actions[np.argmax(res)])\n",
    "                else:\n",
    "                    sentence.append(actions[np.argmax(res)])\n",
    "\n",
    "            if len(sentence) > 5: \n",
    "                sentence = sentence[-5:]\n",
    "\n",
    "            # Viz probabilities\n",
    "            image = prob_viz(res, actions, image, colors)\n",
    "            \n",
    "        cv2.rectangle(image, (0,0), (640, 40), (245, 117, 16), -1)\n",
    "        cv2.putText(image, ' '.join(sentence), (3,30), \n",
    "                       cv2.FONT_HERSHEY_SIMPLEX, 1, (255, 255, 255), 2, cv2.LINE_AA)\n",
    "        \n",
    "        # Show to screen\n",
    "        cv2.imshow('OpenCV Feed', image)\n",
    "\n",
    "        # Break gracefully\n",
    "        if cv2.waitKey(10) & 0xFF == ord('q'):\n",
    "            break\n",
    "    cap.release()\n",
    "    cv2.destroyAllWindows()"
   ]
  },
  {
   "cell_type": "code",
   "execution_count": 72,
   "metadata": {},
   "outputs": [],
   "source": [
    "cap.release()\n",
    "cv2.destroyAllWindows()"
   ]
  },
  {
   "cell_type": "code",
   "execution_count": 73,
   "metadata": {},
   "outputs": [
    {
     "data": {
      "text/plain": [
       "True"
      ]
     },
     "execution_count": 73,
     "metadata": {},
     "output_type": "execute_result"
    }
   ],
   "source": [
    "res[np.argmax(res)] > threshold"
   ]
  },
  {
   "cell_type": "code",
   "execution_count": 74,
   "metadata": {},
   "outputs": [
    {
     "data": {
      "text/plain": [
       "(None, 30, 258)"
      ]
     },
     "execution_count": 74,
     "metadata": {},
     "output_type": "execute_result"
    }
   ],
   "source": [
    "(None,30,258)"
   ]
  },
  {
   "cell_type": "code",
   "execution_count": 75,
   "metadata": {},
   "outputs": [
    {
     "data": {
      "text/plain": [
       "array([[1.2282243e-09, 1.0000000e+00, 1.5094456e-09]], dtype=float32)"
      ]
     },
     "execution_count": 75,
     "metadata": {},
     "output_type": "execute_result"
    }
   ],
   "source": [
    "best_model.model.predict(np.expand_dims(X_test[0], axis=0))"
   ]
  },
  {
   "cell_type": "code",
   "execution_count": 76,
   "metadata": {},
   "outputs": [
    {
     "name": "stdout",
     "output_type": "stream",
     "text": [
      "Package                      Version\n",
      "---------------------------- -------------------\n",
      "absl-py                      0.15.0\n",
      "aiohttp                      3.9.3\n",
      "aiosignal                    1.2.0\n",
      "anyio                        4.2.0\n",
      "argon2-cffi                  21.3.0\n",
      "argon2-cffi-bindings         21.2.0\n",
      "astor                        0.8.1\n",
      "asttokens                    2.0.5\n",
      "astunparse                   1.6.3\n",
      "async-lru                    2.0.4\n",
      "async-timeout                4.0.3\n",
      "attrs                        23.1.0\n",
      "Babel                        2.11.0\n",
      "backcall                     0.2.0\n",
      "beautifulsoup4               4.12.2\n",
      "bleach                       4.1.0\n",
      "blinker                      1.6.2\n",
      "bokeh                        3.1.1\n",
      "Bottleneck                   1.3.5\n",
      "Brotli                       1.0.9\n",
      "cachetools                   4.2.2\n",
      "category-encoders            2.6.3\n",
      "certifi                      2024.2.2\n",
      "cffi                         1.16.0\n",
      "charset-normalizer           3.3.2\n",
      "click                        8.1.7\n",
      "cloudpickle                  2.2.1\n",
      "colorama                     0.4.6\n",
      "comm                         0.2.1\n",
      "contourpy                    1.0.5\n",
      "cryptography                 42.0.5\n",
      "cycler                       0.11.0\n",
      "cytoolz                      0.12.2\n",
      "daal4py                      2023.0.2\n",
      "dask                         2023.4.1\n",
      "debugpy                      1.6.7\n",
      "decorator                    5.1.1\n",
      "defusedxml                   0.7.1\n",
      "exceptiongroup               1.2.0\n",
      "executing                    0.8.3\n",
      "fastjsonschema               2.16.2\n",
      "filelock                     3.13.4\n",
      "flatbuffers                  1.12\n",
      "fonttools                    4.25.0\n",
      "frozenlist                   1.4.0\n",
      "fsspec                       2023.10.0\n",
      "gast                         0.3.3\n",
      "google-auth                  2.29.0\n",
      "google-auth-oauthlib         0.4.6\n",
      "google-pasta                 0.2.0\n",
      "graphviz                     0.20.1\n",
      "grpcio                       1.32.0\n",
      "h5py                         2.10.0\n",
      "idna                         3.4\n",
      "imagecodecs                  2021.8.26\n",
      "imageio                      2.33.1\n",
      "importlib-metadata           7.0.1\n",
      "importlib-resources          6.1.1\n",
      "ipykernel                    6.28.0\n",
      "ipython                      8.12.2\n",
      "jax                          0.4.13\n",
      "jedi                         0.18.1\n",
      "Jinja2                       3.1.3\n",
      "joblib                       1.2.0\n",
      "json5                        0.9.6\n",
      "jsonschema                   4.19.2\n",
      "jsonschema-specifications    2023.7.1\n",
      "jupyter_client               8.6.0\n",
      "jupyter_core                 5.5.0\n",
      "jupyter-events               0.8.0\n",
      "jupyter-lsp                  2.2.0\n",
      "jupyter_server               2.10.0\n",
      "jupyter_server_terminals     0.4.4\n",
      "jupyterlab                   4.0.11\n",
      "jupyterlab-pygments          0.1.2\n",
      "jupyterlab_server            2.25.1\n",
      "keras                        2.13.1\n",
      "Keras-Applications           1.0.8\n",
      "keras-nightly                2.5.0.dev2021032900\n",
      "Keras-Preprocessing          1.1.2\n",
      "kiwisolver                   1.4.4\n",
      "libclang                     18.1.1\n",
      "livelossplot                 0.5.5\n",
      "locket                       1.0.0\n",
      "Markdown                     3.4.1\n",
      "MarkupSafe                   2.1.3\n",
      "matplotlib                   3.6.2\n",
      "matplotlib-inline            0.1.6\n",
      "mediapipe                    0.8.11\n",
      "mistune                      2.0.4\n",
      "mkl-fft                      1.3.0\n",
      "mkl-random                   1.1.1\n",
      "mkl-service                  2.3.0\n",
      "ml-dtypes                    0.2.0\n",
      "mpmath                       1.3.0\n",
      "multidict                    6.0.4\n",
      "munkres                      1.1.4\n",
      "nbclient                     0.8.0\n",
      "nbconvert                    7.10.0\n",
      "nbformat                     5.9.2\n",
      "nest-asyncio                 1.6.0\n",
      "networkx                     3.1\n",
      "notebook                     7.0.8\n",
      "notebook_shim                0.2.3\n",
      "numexpr                      2.7.3\n",
      "numpy                        1.19.5\n",
      "oauthlib                     3.2.2\n",
      "opencv-contrib-python        4.9.0.80\n",
      "opencv-python                4.9.0.80\n",
      "opt-einsum                   3.3.0\n",
      "overrides                    7.4.0\n",
      "packaging                    23.2\n",
      "pandas                       1.4.4\n",
      "pandocfilters                1.5.0\n",
      "parso                        0.8.3\n",
      "partd                        1.4.1\n",
      "patsy                        0.5.3\n",
      "pickleshare                  0.7.5\n",
      "pillow                       10.2.0\n",
      "pip                          23.3.1\n",
      "pkgutil_resolve_name         1.3.10\n",
      "platformdirs                 3.10.0\n",
      "ply                          3.11\n",
      "prometheus-client            0.14.1\n",
      "prompt-toolkit               3.0.43\n",
      "protobuf                     3.20.3\n",
      "psutil                       5.9.0\n",
      "pure-eval                    0.2.2\n",
      "pyasn1                       0.4.8\n",
      "pyasn1-modules               0.2.8\n",
      "pycparser                    2.21\n",
      "pydot                        1.4.2\n",
      "pydotplus                    2.0.2\n",
      "Pygments                     2.15.1\n",
      "pygraphviz                   1.9\n",
      "PyJWT                        2.4.0\n",
      "pyOpenSSL                    24.0.0\n",
      "pyparsing                    2.4.7\n",
      "PyQt5                        5.15.10\n",
      "PyQt5-sip                    12.13.0\n",
      "pyreadline                   2.1\n",
      "PySocks                      1.7.1\n",
      "python-dateutil              2.8.2\n",
      "python-json-logger           2.0.7\n",
      "pytz                         2023.3.post1\n",
      "PyWavelets                   1.4.1\n",
      "pywin32                      305.1\n",
      "pywinpty                     2.0.10\n",
      "PyYAML                       6.0.1\n",
      "pyzmq                        25.1.2\n",
      "referencing                  0.30.2\n",
      "requests                     2.31.0\n",
      "requests-oauthlib            1.3.0\n",
      "rfc3339-validator            0.1.4\n",
      "rfc3986-validator            0.1.1\n",
      "rpds-py                      0.10.6\n",
      "rsa                          4.7.2\n",
      "scikit-image                 0.19.3\n",
      "scikit-learn                 1.1.3\n",
      "scikit-learn-intelex         20230228.214506\n",
      "scipy                        1.10.1\n",
      "seaborn                      0.12.2\n",
      "Send2Trash                   1.8.2\n",
      "setuptools                   69.2.0\n",
      "sip                          6.7.12\n",
      "six                          1.15.0\n",
      "sklearn-pandas               2.2.0\n",
      "sniffio                      1.3.0\n",
      "sounddevice                  0.4.6\n",
      "soupsieve                    2.5\n",
      "stack-data                   0.2.0\n",
      "statsmodels                  0.13.5\n",
      "sympy                        1.12\n",
      "tensorboard                  2.11.2\n",
      "tensorboard-data-server      0.6.1\n",
      "tensorboard-plugin-wit       1.8.1\n",
      "tensorflow                   2.4.1\n",
      "tensorflow-estimator         2.4.0\n",
      "tensorflow-gpu               2.4.1\n",
      "tensorflow-intel             2.13.0\n",
      "tensorflow-io-gcs-filesystem 0.31.0\n",
      "termcolor                    1.1.0\n",
      "terminado                    0.17.1\n",
      "threadpoolctl                2.2.0\n",
      "tifffile                     2021.7.2\n",
      "tinycss2                     1.2.1\n",
      "tomli                        2.0.1\n",
      "toolz                        0.12.0\n",
      "torch                        2.2.2\n",
      "torchvision                  0.17.2\n",
      "tornado                      6.3.3\n",
      "traitlets                    5.7.1\n",
      "typing_extensions            4.11.0\n",
      "urllib3                      2.2.1\n",
      "wcwidth                      0.2.5\n",
      "webencodings                 0.5.1\n",
      "websocket-client             0.58.0\n",
      "Werkzeug                     2.3.8\n",
      "wheel                        0.43.0\n",
      "win-inet-pton                1.1.0\n",
      "wrapt                        1.12.1\n",
      "xyzservices                  2024.4.0\n",
      "yarl                         1.9.3\n",
      "zipp                         3.18.1\n",
      "Note: you may need to restart the kernel to use updated packages.\n"
     ]
    },
    {
     "name": "stderr",
     "output_type": "stream",
     "text": [
      "WARNING: Ignoring invalid distribution -harset-normalizer (f:\\anacondaaa2\\envs\\ev_8\\lib\\site-packages)\n"
     ]
    }
   ],
   "source": [
    "pip list"
   ]
  }
 ],
 "metadata": {
  "kernelspec": {
   "display_name": "Python 3 (ipykernel)",
   "language": "python",
   "name": "python3"
  },
  "language_info": {
   "codemirror_mode": {
    "name": "ipython",
    "version": 3
   },
   "file_extension": ".py",
   "mimetype": "text/x-python",
   "name": "python",
   "nbconvert_exporter": "python",
   "pygments_lexer": "ipython3",
   "version": "3.8.19"
  }
 },
 "nbformat": 4,
 "nbformat_minor": 4
}
